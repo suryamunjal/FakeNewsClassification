{
  "cells": [
    {
      "cell_type": "code",
      "execution_count": 3,
      "metadata": {
        "id": "oksmFFaplpc-"
      },
      "outputs": [],
      "source": [
        "from flask import Flask, jsonify, request\n",
        "import numpy as np\n",
        "import joblib\n",
        "import pandas as pd\n",
        "import numpy as np\n",
        "from sklearn import linear_model\n",
        "import joblib\n",
        "from bs4 import BeautifulSoup\n",
        "import re\n",
        "from sklearn.feature_extraction.text import CountVectorizer\n",
        "from tensorflow.keras.preprocessing.sequence import pad_sequences"
      ]
    },
    {
      "cell_type": "code",
      "execution_count": 4,
      "metadata": {
        "colab": {
          "base_uri": "https://localhost:8080/"
        },
        "id": "Lef2ej8Ol7e9",
        "outputId": "e0636611-aa3c-4d44-bdec-5d4b9f2a36be"
      },
      "outputs": [
        {
          "output_type": "stream",
          "name": "stdout",
          "text": [
            "Completed!\n"
          ]
        }
      ],
      "source": [
        "!pip install flask --quiet\n",
        "!pip install flask-ngrok --quiet\n",
        "print(\"Completed!\")"
      ]
    },
    {
      "cell_type": "code",
      "execution_count": 5,
      "metadata": {
        "colab": {
          "base_uri": "https://localhost:8080/"
        },
        "id": "hbLVFAoXmQYN",
        "outputId": "d35b7a24-11fb-4d1c-a6d7-5f7fc84c379c"
      },
      "outputs": [
        {
          "output_type": "stream",
          "name": "stdout",
          "text": [
            "--2022-10-09 10:23:03--  https://bin.equinox.io/c/4VmDzA7iaHb/ngrok-stable-linux-amd64.tgz\n",
            "Resolving bin.equinox.io (bin.equinox.io)... 54.237.133.81, 54.161.241.46, 52.202.168.65, ...\n",
            "Connecting to bin.equinox.io (bin.equinox.io)|54.237.133.81|:443... connected.\n",
            "HTTP request sent, awaiting response... 200 OK\n",
            "Length: 13770165 (13M) [application/octet-stream]\n",
            "Saving to: ‘ngrok-stable-linux-amd64.tgz’\n",
            "\n",
            "ngrok-stable-linux- 100%[===================>]  13.13M  5.93MB/s    in 2.2s    \n",
            "\n",
            "2022-10-09 10:23:06 (5.93 MB/s) - ‘ngrok-stable-linux-amd64.tgz’ saved [13770165/13770165]\n",
            "\n"
          ]
        }
      ],
      "source": [
        "# install ngrok linux version using the following command or you can get the\n",
        "# latest version from its official website- https://dashboard.ngrok.com/get-started/setup\n",
        "\n",
        "!wget https://bin.equinox.io/c/4VmDzA7iaHb/ngrok-stable-linux-amd64.tgz"
      ]
    },
    {
      "cell_type": "code",
      "execution_count": 6,
      "metadata": {
        "colab": {
          "base_uri": "https://localhost:8080/"
        },
        "id": "pOM7Lg0CmTcO",
        "outputId": "83528c5e-5973-4351-9de8-746dd628c07a"
      },
      "outputs": [
        {
          "output_type": "stream",
          "name": "stdout",
          "text": [
            "ngrok\n"
          ]
        }
      ],
      "source": [
        "# extract the downloaded file using the following command \n",
        "\n",
        "!tar -xvf /content/ngrok-stable-linux-amd64.tgz"
      ]
    },
    {
      "cell_type": "code",
      "execution_count": 7,
      "metadata": {
        "colab": {
          "base_uri": "https://localhost:8080/"
        },
        "id": "bcmG2yBCmXYP",
        "outputId": "3d4a6672-869e-4fc6-9142-388c01f3086f"
      },
      "outputs": [
        {
          "output_type": "stream",
          "name": "stdout",
          "text": [
            "Authtoken saved to configuration file: /root/.ngrok2/ngrok.yml\n"
          ]
        }
      ],
      "source": [
        "# paste your AuthToken here and execute this command\n",
        "\n",
        "!./ngrok authtoken 2EM30ZjrtTpWthpgW8huDyOBOPb_uxKo2u6r6VDaiTVQZoyC"
      ]
    },
    {
      "cell_type": "code",
      "execution_count": 8,
      "metadata": {
        "colab": {
          "base_uri": "https://localhost:8080/"
        },
        "id": "E1SvcZEasC-W",
        "outputId": "6d1eef39-6f46-47bc-ab68-88d49e53be78"
      },
      "outputs": [
        {
          "output_type": "stream",
          "name": "stderr",
          "text": [
            "[nltk_data] Downloading package stopwords to /root/nltk_data...\n",
            "[nltk_data]   Unzipping corpora/stopwords.zip.\n"
          ]
        }
      ],
      "source": [
        "import nltk\n",
        "from nltk.corpus import stopwords\n",
        "nltk.download('stopwords')\n",
        "stopwords = nltk.corpus.stopwords.words('english')"
      ]
    },
    {
      "cell_type": "code",
      "execution_count": 9,
      "metadata": {
        "id": "61_CFMBFrT3X"
      },
      "outputs": [],
      "source": [
        "\n",
        "def decontracted(phrase):\n",
        "    # specific\n",
        "    phrase = re.sub(r\"won't\", \"will not\", phrase)\n",
        "    phrase = re.sub(r\"can\\'t\", \"can not\", phrase)\n",
        "\n",
        "    # general\n",
        "    phrase = re.sub(r\"n\\'t\", \" not\", phrase)\n",
        "    phrase = re.sub(r\"\\'re\", \" are\", phrase)\n",
        "    phrase = re.sub(r\"\\'s\", \" is\", phrase)\n",
        "    phrase = re.sub(r\"\\'d\", \" would\", phrase)\n",
        "    phrase = re.sub(r\"\\'ll\", \" will\", phrase)\n",
        "    phrase = re.sub(r\"\\'t\", \" not\", phrase)\n",
        "    phrase = re.sub(r\"\\'ve\", \" have\", phrase)\n",
        "    phrase = re.sub(r\"\\'m\", \" am\", phrase)\n",
        "    return phrase\n",
        "\n",
        "def preproc(sentance):\n",
        "#from tqdm import tqdm\n",
        "# tqdm is for printing the status bar\n",
        "#for sentance in tqdm(df['combined'].values):\n",
        "    sentance = re.sub(r\"http\\S+\", \"url\", sentance)  #removing urls with space\n",
        "    sentance = BeautifulSoup(sentance, 'lxml').get_text() # removes tags like <br>\n",
        "    sentance = decontracted(sentance)\n",
        "    sentance = re.sub(\"\\S*\\d\\S*\", \"\", sentance).strip()  # remove words with numbers \n",
        "    sentance = re.sub('[^A-Za-z]+', ' ', sentance)  ##remove spacial character:\n",
        "    sentance = ' '.join(e.lower() for e in sentance.split() if e.lower() not in stopwords)\n",
        "    \n",
        "    return(sentance.strip())\n"
      ]
    },
    {
      "cell_type": "code",
      "source": [
        "\n",
        "def predict_proba(arr):\n",
        "  print(arr)\n",
        "  processed=[]\n",
        "  for i in arr:\n",
        "    processed.append(preproc(i))\n",
        "  list_tokenized_ex = tokenizer.texts_to_sequences(processed)\n",
        "  Ex = pad_sequences(list_tokenized_ex, maxlen=600)\n",
        "  pred=clf.predict(Ex)\n",
        "  \n",
        "  returnable=[]\n",
        "  for i in pred:\n",
        "    temp=i[0]\n",
        "    returnable.append(np.array([1-temp,temp])) #I would recommend rounding temp and 1-temp off to 2 places\n",
        "  \n",
        "  return np.array(returnable)"
      ],
      "metadata": {
        "id": "U2lyskkopwjq"
      },
      "execution_count": 76,
      "outputs": []
    },
    {
      "cell_type": "code",
      "execution_count": null,
      "metadata": {
        "id": "UXoAM_kMmhht",
        "colab": {
          "base_uri": "https://localhost:8080/"
        },
        "outputId": "cd08795e-5741-4714-e540-52cf74350abb"
      },
      "outputs": [
        {
          "output_type": "stream",
          "name": "stdout",
          "text": [
            " * Serving Flask app \"__main__\" (lazy loading)\n",
            " * Environment: production\n",
            "\u001b[31m   WARNING: This is a development server. Do not use it in a production deployment.\u001b[0m\n",
            "\u001b[2m   Use a production WSGI server instead.\u001b[0m\n",
            " * Debug mode: off\n"
          ]
        },
        {
          "output_type": "stream",
          "name": "stderr",
          "text": [
            "INFO:werkzeug: * Running on http://127.0.0.1:5000/ (Press CTRL+C to quit)\n"
          ]
        },
        {
          "output_type": "stream",
          "name": "stdout",
          "text": [
            " * Running on http://6496-35-236-186-229.ngrok.io\n",
            " * Traffic stats available on http://127.0.0.1:4040\n"
          ]
        },
        {
          "output_type": "stream",
          "name": "stderr",
          "text": [
            "INFO:werkzeug:127.0.0.1 - - [09/Oct/2022 14:10:55] \"\u001b[37mGET / HTTP/1.1\u001b[0m\" 200 -\n",
            "INFO:werkzeug:127.0.0.1 - - [09/Oct/2022 14:10:56] \"\u001b[33mGET /favicon.ico HTTP/1.1\u001b[0m\" 404 -\n"
          ]
        },
        {
          "output_type": "stream",
          "name": "stdout",
          "text": [
            "['suryamunjal love chitz', '  ', '  chitz', ' love ', '  ', 'suryamunjal love ', '  ', 'suryamunjal  ', '  ', 'suryamunjal love ', ' love ', ' love ', 'suryamunjal  ', 'suryamunjal love ', 'suryamunjal love ', '  ', ' love ', ' love chitz', 'suryamunjal  chitz', 'suryamunjal  chitz', 'suryamunjal  chitz', '  chitz', ' love ', 'suryamunjal  ', '  ', 'suryamunjal love ', 'suryamunjal  chitz', ' love chitz', '  ', 'suryamunjal love ', '  chitz', '  ', '  ', '  ', '  ', '  chitz', 'suryamunjal love ', '  ', ' love ', '  chitz', '  ', 'suryamunjal love ', 'suryamunjal  chitz', 'suryamunjal  ', ' love ', '  ', 'suryamunjal  chitz', ' love chitz', ' love chitz', 'suryamunjal  ', 'suryamunjal love ', '  ', 'suryamunjal  chitz', 'suryamunjal  ', 'suryamunjal  chitz', '  ', ' love chitz', '  ', ' love chitz', 'suryamunjal  ', '  ', '  ', '  chitz', ' love ', '  chitz', 'suryamunjal  chitz', '  ', '  ', ' love ', '  ', 'suryamunjal love ', 'suryamunjal  chitz', '  chitz', 'suryamunjal  chitz', 'suryamunjal love ', '  ', '  ', ' love chitz', '  chitz', ' love chitz', 'suryamunjal  ', 'suryamunjal  chitz', 'suryamunjal  ', 'suryamunjal  ', 'suryamunjal  chitz', 'suryamunjal  ', '  ', ' love chitz', 'suryamunjal  ', 'suryamunjal  chitz', 'suryamunjal  chitz', ' love ', '  chitz', 'suryamunjal  ', '  ', '  ', '  ', '  ', 'suryamunjal  chitz', 'suryamunjal love ', ' love chitz', 'suryamunjal  ', 'suryamunjal  chitz', '  ', ' love chitz', 'suryamunjal  chitz', 'suryamunjal  ', 'suryamunjal  ', '  ', 'suryamunjal  ', ' love chitz', ' love chitz', ' love ', 'suryamunjal  ', '  ', '  ', 'suryamunjal love ', 'suryamunjal love ', '  chitz', '  ', '  chitz', '  ', '  chitz', 'suryamunjal love ', '  ', 'suryamunjal love ', '  ', '  ', 'suryamunjal  ', 'suryamunjal love ', 'suryamunjal  chitz', 'suryamunjal  ', 'suryamunjal  chitz', 'suryamunjal  ', '  chitz', ' love ', '  ', '  chitz', 'suryamunjal  ', ' love chitz', 'suryamunjal  chitz', '  ', ' love ', 'suryamunjal love ', '  ', '  chitz', '  chitz', '  ', '  ', '  ', '  chitz', 'suryamunjal  ', '  ', ' love chitz', ' love ', ' love chitz', ' love chitz', ' love chitz', ' love ', '  ', '  chitz', '  ', 'suryamunjal  chitz', 'suryamunjal  chitz', '  ', ' love chitz', '  chitz', 'suryamunjal  chitz', 'suryamunjal love ', '  ', '  chitz', ' love chitz', ' love ', 'suryamunjal  ', 'suryamunjal  ', ' love chitz', '  ', 'suryamunjal love ', 'suryamunjal  ', 'suryamunjal love ', ' love ', '  ', '  ', '  ', 'suryamunjal  chitz', '  chitz', 'suryamunjal love ', 'suryamunjal love ', '  ', 'suryamunjal  chitz', '  ', 'suryamunjal  ', '  ', 'suryamunjal love ', 'suryamunjal  chitz', ' love ', '  ', ' love ', ' love ', 'suryamunjal love ', 'suryamunjal  ', '  ', '  ', '  ', 'suryamunjal  ', 'suryamunjal love ', ' love ', ' love chitz', ' love ', 'suryamunjal love ', '  ', 'suryamunjal  chitz', '  chitz', 'suryamunjal  ', 'suryamunjal  ', 'suryamunjal  chitz', '  ', ' love chitz', ' love chitz', '  chitz', '  ', '  ', 'suryamunjal  ', '  ', 'suryamunjal  chitz', ' love chitz', 'suryamunjal love ', 'suryamunjal love ', '  chitz', '  ', 'suryamunjal  ', '  ', ' love ', 'suryamunjal  chitz', '  ', '  ', '  ', 'suryamunjal  ', '  ', '  chitz', ' love chitz', 'suryamunjal  ', 'suryamunjal love ', 'suryamunjal love ', ' love ', '  ', ' love ', ' love chitz', '  ', ' love chitz', ' love chitz', '  ', ' love ', ' love chitz', 'suryamunjal  ', '  chitz', 'suryamunjal love ', ' love ', '  ', '  chitz', 'suryamunjal  chitz', 'suryamunjal  ', 'suryamunjal  ', ' love chitz', 'suryamunjal  chitz', ' love ', '  ', 'suryamunjal  chitz', 'suryamunjal  chitz', '  ', '  ', '  ', '  ', '  chitz', 'suryamunjal love ', 'suryamunjal  ', '  ', '  ', '  ', ' love ', ' love ', 'suryamunjal love ', 'suryamunjal love ', 'suryamunjal  ', '  ', '  ', ' love ', '  chitz', 'suryamunjal love ', '  chitz', 'suryamunjal  ', '  ', '  chitz', '  chitz', 'suryamunjal love ', '  ', '  chitz', 'suryamunjal  ', ' love ', '  ', 'suryamunjal  ', ' love chitz', 'suryamunjal  chitz', '  ', ' love ', 'suryamunjal  chitz', ' love ', ' love ', ' love ', 'suryamunjal love ', 'suryamunjal  chitz', ' love ', '  ', '  ', '  chitz', '  ', 'suryamunjal  ', 'suryamunjal love ', '  ', 'suryamunjal love ', 'suryamunjal  ', 'suryamunjal love ', 'suryamunjal  ', 'suryamunjal love ', '  ', 'suryamunjal  chitz', 'suryamunjal  chitz', '  ', '  ', '  chitz', '  ', 'suryamunjal love ', ' love ', 'suryamunjal  ', '  ', '  ', ' love chitz', '  ', 'suryamunjal love ', 'suryamunjal  ', ' love ', ' love chitz', 'suryamunjal  ', 'suryamunjal  ', '  ', '  ', 'suryamunjal love ', '  chitz', '  ', '  ', 'suryamunjal  ', 'suryamunjal  ', ' love ', 'suryamunjal  chitz', '  chitz', '  ', '  chitz', '  ', 'suryamunjal  chitz', '  ', 'suryamunjal love ', 'suryamunjal  chitz', ' love chitz', '  ', 'suryamunjal  ', ' love chitz', ' love ', ' love chitz', '  ', ' love chitz', 'suryamunjal  chitz', '  ', ' love ', ' love chitz', 'suryamunjal  chitz', '  chitz', '  chitz', '  ', ' love ', '  ', ' love chitz', ' love ', 'suryamunjal love ', '  chitz', '  ', '  ', '  chitz', 'suryamunjal love ', ' love ', '  ', ' love ', 'suryamunjal  chitz', 'suryamunjal  ', '  chitz', 'suryamunjal  ', '  ', '  ', ' love ', '  ', 'suryamunjal  chitz', ' love ', 'suryamunjal  chitz', 'suryamunjal  chitz', '  ', '  ', ' love ', 'suryamunjal  chitz', '  ', 'suryamunjal love ', 'suryamunjal  ', '  ', '  ', 'suryamunjal love ', ' love chitz', ' love chitz', ' love ', ' love ', ' love chitz', '  chitz', ' love chitz', 'suryamunjal love ', '  chitz', '  ', '  chitz', '  ', 'suryamunjal love ', '  chitz', 'suryamunjal love ', 'suryamunjal love ', 'suryamunjal love ', 'suryamunjal love ', 'suryamunjal  chitz', 'suryamunjal  chitz', '  ', '  chitz', '  ', ' love chitz', '  ', 'suryamunjal  chitz', 'suryamunjal love ', 'suryamunjal love ', '  chitz', ' love ', '  ', '  chitz', '  chitz', '  chitz', '  ', '  ', '  ', '  ', 'suryamunjal  chitz', '  ', '  ', 'suryamunjal  ', 'suryamunjal  chitz', ' love ', ' love ', 'suryamunjal love ', 'suryamunjal love ', '  ', 'suryamunjal love ', '  chitz', '  ', 'suryamunjal  chitz', '  ', ' love ', '  ', ' love ', 'suryamunjal  ', 'suryamunjal love ', ' love ', 'suryamunjal love ', 'suryamunjal love ', 'suryamunjal  chitz', '  ', ' love ', '  ', ' love ', 'suryamunjal  chitz', '  ', 'suryamunjal  chitz', 'suryamunjal  ', '  ', ' love ', 'suryamunjal love ', 'suryamunjal  ', '  ', '  ', '  ', ' love chitz', 'suryamunjal  chitz', '  ', 'suryamunjal  chitz', 'suryamunjal  chitz', 'suryamunjal  chitz', 'suryamunjal  chitz', ' love chitz', '  ', 'suryamunjal  chitz', '  ', '  ', ' love chitz', ' love ', '  ', '  ', '  ', 'suryamunjal love ', 'suryamunjal love ', '  ', '  ', ' love chitz', 'suryamunjal love ', 'suryamunjal  ', '  chitz', '  ', 'suryamunjal  ', 'suryamunjal love ', 'suryamunjal  chitz', 'suryamunjal  chitz', 'suryamunjal love ', '  ', '  ', '  ', ' love ', 'suryamunjal love ', ' love chitz', 'suryamunjal love ', 'suryamunjal love ', 'suryamunjal  chitz', '  chitz', ' love ', '  ', '  ', ' love ', '  ', '  ', '  ', ' love ', 'suryamunjal  chitz', '  ', 'suryamunjal  chitz', '  ', ' love ', ' love ', '  ', '  chitz', 'suryamunjal  chitz', ' love ', 'suryamunjal  chitz', 'suryamunjal love ', '  ', '  chitz', ' love chitz', 'suryamunjal  ', '  chitz', 'suryamunjal  ', 'suryamunjal love ', 'suryamunjal  chitz', '  ', '  ', 'suryamunjal  ', 'suryamunjal  chitz', 'suryamunjal  ', '  ', ' love ', '  ', 'suryamunjal  ', '  ', 'suryamunjal  ', 'suryamunjal  chitz', ' love ', '  ', '  chitz', 'suryamunjal  chitz', '  ', '  ', ' love chitz', '  ', 'suryamunjal  ', 'suryamunjal love ', '  ', '  ', ' love ', '  chitz', 'suryamunjal love ', ' love ', ' love chitz', 'suryamunjal  chitz', '  ', ' love ', 'suryamunjal love ', '  ', 'suryamunjal  ', 'suryamunjal  chitz', 'suryamunjal  ', 'suryamunjal  chitz', '  chitz', '  chitz', 'suryamunjal  ', '  ', 'suryamunjal love ', ' love ', 'suryamunjal  ', 'suryamunjal love ', ' love chitz', 'suryamunjal love ', ' love ', '  ', '  ', '  ', '  chitz', ' love ', '  chitz', '  ', 'suryamunjal love ', 'suryamunjal  ', '  ', 'suryamunjal  chitz', ' love ', 'suryamunjal  ', 'suryamunjal  ', 'suryamunjal  ', '  ', '  chitz', '  ', '  ', 'suryamunjal love ', ' love ', 'suryamunjal love ', '  chitz', '  ', '  ', 'suryamunjal  chitz', '  chitz', 'suryamunjal  chitz', 'suryamunjal  chitz', '  ', '  ', 'suryamunjal love ', 'suryamunjal  chitz', '  ', 'suryamunjal  ', '  ', 'suryamunjal  ', '  chitz', '  ', '  ', 'suryamunjal  chitz', 'suryamunjal love ', ' love ', ' love ', 'suryamunjal love ', '  ', '  ', 'suryamunjal  chitz', '  ', '  ', ' love ', '  ', 'suryamunjal  ', 'suryamunjal  chitz', '  ', ' love chitz', ' love ', '  ', ' love ', 'suryamunjal  chitz', '  ', '  ', 'suryamunjal love ', '  ', '  chitz', ' love chitz', ' love ', '  ', '  chitz', '  ', 'suryamunjal love ', ' love chitz', 'suryamunjal  chitz', '  ', '  ', 'suryamunjal  chitz', '  ', '  chitz', 'suryamunjal  ', 'suryamunjal  chitz', '  ', ' love chitz', '  chitz', 'suryamunjal  ', ' love ', '  chitz', 'suryamunjal love ', 'suryamunjal  ', ' love chitz', 'suryamunjal  ', '  ', '  ', 'suryamunjal  ', '  ', '  ', ' love chitz', '  chitz', '  ', 'suryamunjal  chitz', '  ', ' love chitz', 'suryamunjal  chitz', '  ', '  chitz', '  ', 'suryamunjal  chitz', ' love chitz', '  ', '  ', 'suryamunjal  ', '  ', '  ', 'suryamunjal love ', '  ', ' love ', ' love chitz', '  chitz', '  ', '  chitz', 'suryamunjal love ', ' love chitz', '  chitz', '  ', '  ', 'suryamunjal  chitz', 'suryamunjal  ', ' love ', 'suryamunjal  chitz', 'suryamunjal love ', 'suryamunjal love ', '  ', '  ', ' love ', 'suryamunjal  ', 'suryamunjal love ', '  ', 'suryamunjal  ', '  ', 'suryamunjal love ', '  chitz', 'suryamunjal  ', '  ', ' love ', ' love chitz', '  ', 'suryamunjal love ', '  ', '  chitz', ' love chitz', 'suryamunjal  ', 'suryamunjal  ', '  ', ' love chitz', ' love ', 'suryamunjal love ', ' love ', ' love chitz', '  ', '  chitz', 'suryamunjal love ', '  chitz', '  ', 'suryamunjal love ', 'suryamunjal love ', 'suryamunjal love ', ' love chitz', '  ', 'suryamunjal  chitz', '  chitz', '  ', '  chitz', 'suryamunjal love ', '  ', '  ', '  ', ' love chitz', 'suryamunjal  chitz', '  ', ' love ', ' love ', '  ', '  ', 'suryamunjal love ', 'suryamunjal  chitz', 'suryamunjal  ', '  chitz', 'suryamunjal love ', '  ', ' love ', 'suryamunjal  ', '  ', 'suryamunjal  chitz', '  ', '  ', ' love ', '  ', ' love ', '  ', ' love chitz', '  ', '  ', ' love chitz', ' love chitz', ' love ', 'suryamunjal love ', '  chitz', 'suryamunjal  chitz', 'suryamunjal  ', ' love ', ' love ', 'suryamunjal  chitz', ' love chitz', ' love ', '  ', '  ', '  ', '  chitz', ' love ', ' love chitz', 'suryamunjal  ', 'suryamunjal love ', '  ', '  ', '  ', ' love ', '  ', ' love ', 'suryamunjal love ', ' love ', ' love chitz', 'suryamunjal  chitz', 'suryamunjal  ', 'suryamunjal love ', '  ', 'suryamunjal  chitz', 'suryamunjal  chitz', '  ', '  ', 'suryamunjal  chitz', 'suryamunjal  ', 'suryamunjal  ', 'suryamunjal  chitz', '  chitz', '  chitz', 'suryamunjal  chitz', '  ', 'suryamunjal  ', '  ', '  ', 'suryamunjal  chitz', '  chitz', 'suryamunjal love ', '  chitz', '  ', '  chitz', ' love ', '  ', '  ', '  ', '  chitz', '  ', '  ', '  ', ' love chitz', 'suryamunjal love ', ' love chitz', ' love ', '  ', '  ', '  ', '  chitz', ' love ', 'suryamunjal  ', '  ', ' love chitz', 'suryamunjal  chitz', 'suryamunjal  chitz', 'suryamunjal love ', '  ', '  ', '  chitz', '  ', 'suryamunjal  ', 'suryamunjal love ', '  ', '  ', '  ', ' love chitz', ' love chitz', '  ', '  ', ' love chitz', ' love chitz', '  ', '  ', ' love chitz', '  ', '  ', ' love chitz', '  ', ' love ', ' love ', 'suryamunjal love ', 'suryamunjal  ', ' love chitz', '  ', ' love ', '  chitz', ' love chitz', 'suryamunjal love ', 'suryamunjal love ', ' love ', 'suryamunjal love ', ' love chitz', 'suryamunjal  chitz', ' love ', 'suryamunjal  ', ' love ', 'suryamunjal  chitz', '  ', '  ', 'suryamunjal  ', ' love ', 'suryamunjal love ', ' love chitz', ' love chitz', ' love chitz', 'suryamunjal love ', ' love ', 'suryamunjal love ', 'suryamunjal  ', ' love chitz', '  ', 'suryamunjal  ', '  ', 'suryamunjal  chitz', '  ', 'suryamunjal  ', 'suryamunjal love ', ' love ', '  chitz', '  ', 'suryamunjal  chitz', 'suryamunjal  chitz', '  ', 'suryamunjal  ', 'suryamunjal love ', 'suryamunjal  chitz', '  ', 'suryamunjal  chitz', '  ', 'suryamunjal love ', '  ', 'suryamunjal love ', '  chitz', 'suryamunjal love ', '  ', ' love ', '  ', '  ', '  ', 'suryamunjal love ', '  ', '  chitz', 'suryamunjal  ', ' love chitz', '  ', 'suryamunjal  chitz', '  ', '  chitz', '  ', ' love chitz', ' love ', '  ', 'suryamunjal love ', 'suryamunjal  chitz', '  ', ' love ', 'suryamunjal love ', '  ', '  ', '  chitz', '  ', 'suryamunjal  ', 'suryamunjal love ', '  chitz', '  ', 'suryamunjal  ', 'suryamunjal love ', ' love chitz', '  ', '  ', '  ', 'suryamunjal  chitz', 'suryamunjal  ', '  ', '  ', '  ', ' love chitz', '  ', '  ', 'suryamunjal  chitz', 'suryamunjal  chitz', 'suryamunjal  ', ' love ', ' love chitz', '  ', 'suryamunjal  chitz', 'suryamunjal love ', '  ', 'suryamunjal love ', 'suryamunjal love ', '  ', '  ', '  ', '  ', 'suryamunjal  ', '  chitz', 'suryamunjal  ', ' love chitz', '  ', 'suryamunjal  chitz', '  ', ' love chitz', ' love chitz', ' love chitz', '  ', '  chitz', 'suryamunjal  chitz', 'suryamunjal love ', '  chitz', 'suryamunjal  chitz', '  ', '  ', 'suryamunjal  ', 'suryamunjal  ', '  ', ' love ', 'suryamunjal love ', ' love ', '  ', '  ', 'suryamunjal love ', 'suryamunjal love ', ' love ', ' love ', 'suryamunjal  chitz', '  ', ' love chitz', '  ', '  ', 'suryamunjal  ', 'suryamunjal love ', ' love chitz', 'suryamunjal love ', '  ', '  ', 'suryamunjal  chitz', '  ', '  chitz', 'suryamunjal love ', '  ', 'suryamunjal  ', 'suryamunjal love ', ' love ', '  chitz', '  ', ' love chitz', 'suryamunjal love ', ' love ', '  ', '  chitz', '  ', 'suryamunjal  ', '  ', '  ', 'suryamunjal  ', '  ', 'suryamunjal  ', 'suryamunjal  ', '  ', '  ', ' love chitz', '  ', '  chitz', '  ', '  ', '  chitz', ' love ', 'suryamunjal  chitz', '  ', '  ', ' love chitz', '  chitz', '  ', 'suryamunjal  ', ' love ', '  ', '  ', '  ', '  ', '  chitz', ' love ', 'suryamunjal  chitz', '  chitz', 'suryamunjal  chitz', '  chitz', ' love chitz', ' love chitz', '  ', ' love ', ' love chitz', ' love chitz', ' love chitz', 'suryamunjal  ', '  ', ' love ', '  ', '  ', '  ', '  ', ' love ', '  chitz', '  chitz', '  ', '  chitz', '  ', 'suryamunjal  chitz', 'suryamunjal love ', ' love chitz', 'suryamunjal  ', 'suryamunjal  chitz', ' love chitz', '  ', '  ', ' love ', '  ', 'suryamunjal  chitz', ' love chitz', '  ', '  ', ' love ', '  ', 'suryamunjal  ', 'suryamunjal love ', 'suryamunjal  chitz', '  chitz', '  ', 'suryamunjal love ', ' love ', '  chitz', 'suryamunjal  ', '  ', '  ', '  ', 'suryamunjal  ', ' love ', '  ', 'suryamunjal  chitz', '  ', ' love ', ' love chitz', 'suryamunjal love ', ' love chitz', '  ', 'suryamunjal love ', 'suryamunjal  chitz', ' love chitz', '  chitz', 'suryamunjal  ', '  chitz', '  ', ' love ', '  ', ' love ', 'suryamunjal  chitz', '  ', 'suryamunjal  chitz', ' love chitz', ' love chitz', 'suryamunjal  chitz', 'suryamunjal  ', 'suryamunjal  chitz', 'suryamunjal  chitz', '  ', '  ', 'suryamunjal  ', 'suryamunjal  chitz', '  ', 'suryamunjal  ', '  ', '  ', 'suryamunjal  ', '  ', 'suryamunjal  ', ' love ', 'suryamunjal  ', '  ', 'suryamunjal  ', ' love ', ' love chitz', 'suryamunjal love ', 'suryamunjal  ', ' love chitz', '  ', '  chitz', ' love ', ' love chitz', ' love chitz', '  ', '  chitz', '  ', ' love chitz', 'suryamunjal  ', 'suryamunjal  ', ' love chitz', '  chitz', ' love chitz', '  chitz', 'suryamunjal  chitz', '  ', ' love chitz', 'suryamunjal  ', 'suryamunjal  ', '  chitz', ' love chitz', '  ', 'suryamunjal  ', 'suryamunjal  ', 'suryamunjal love ', '  ', 'suryamunjal  ', 'suryamunjal  chitz', 'suryamunjal  ', '  ', 'suryamunjal  ', ' love chitz', '  ', '  ', '  ', '  ', '  ', '  ', '  ', ' love chitz', '  ', ' love ', '  ', ' love ', '  ', 'suryamunjal  chitz', ' love chitz', '  chitz', 'suryamunjal  ', ' love chitz', 'suryamunjal  ', '  chitz', 'suryamunjal  chitz', 'suryamunjal love ', 'suryamunjal  ', '  ', 'suryamunjal  chitz', 'suryamunjal  chitz', ' love ', '  chitz', '  chitz', 'suryamunjal  chitz', '  ', '  ', ' love chitz', ' love chitz', '  ', '  ', '  ', '  chitz', 'suryamunjal love ', 'suryamunjal love ', 'suryamunjal love ', 'suryamunjal  ', '  ', '  ', 'suryamunjal  chitz', 'suryamunjal  ', '  ', '  ', ' love chitz', ' love chitz', '  ', 'suryamunjal  ', '  chitz', '  chitz', '  ', 'suryamunjal  ', '  ', ' love ', '  ', 'suryamunjal  ', '  ', '  ', '  ', ' love chitz', '  chitz', '  chitz', 'suryamunjal  chitz', 'suryamunjal  chitz', '  ', '  ', 'suryamunjal  chitz', '  chitz', ' love ', 'suryamunjal  ', '  ', ' love ', ' love chitz', '  chitz', '  chitz', 'suryamunjal love ', 'suryamunjal  ', ' love chitz', 'suryamunjal love ', 'suryamunjal  chitz', 'suryamunjal love ', ' love chitz', '  ', 'suryamunjal  ', 'suryamunjal  ', ' love ', 'suryamunjal  ', 'suryamunjal love ', '  ', 'suryamunjal  ', 'suryamunjal  chitz', '  ', 'suryamunjal  chitz', 'suryamunjal  chitz', 'suryamunjal love ', '  ', '  ', 'suryamunjal  ', ' love ', '  chitz', '  chitz', 'suryamunjal love ', 'suryamunjal love ', 'suryamunjal love ', 'suryamunjal  ', '  chitz', '  chitz', 'suryamunjal  chitz', '  ', ' love chitz', 'suryamunjal  chitz', 'suryamunjal love ', '  ', '  ', '  ', ' love chitz', '  ', ' love ', '  chitz', 'suryamunjal love ', 'suryamunjal  ', 'suryamunjal  ', ' love ', ' love chitz', '  ', '  ', 'suryamunjal  ', ' love chitz', '  chitz', ' love chitz', 'suryamunjal  ', 'suryamunjal  ', ' love chitz', ' love ', '  ', ' love ', '  ', 'suryamunjal  ', ' love ', 'suryamunjal  chitz', '  chitz', '  ', '  ', ' love chitz', '  ', 'suryamunjal  chitz', ' love ', '  chitz', 'suryamunjal  chitz', '  ', '  chitz', '  chitz', 'suryamunjal love ', '  ', '  ', '  ', ' love chitz', 'suryamunjal  chitz', ' love chitz', ' love ', '  ', ' love ', ' love ', 'suryamunjal love ', ' love chitz', 'suryamunjal love ', 'suryamunjal  chitz', '  ', 'suryamunjal  ', 'suryamunjal love ', 'suryamunjal  chitz', 'suryamunjal  chitz', 'suryamunjal love ', 'suryamunjal  ', '  ', 'suryamunjal  chitz', '  ', 'suryamunjal  ', 'suryamunjal love ', '  chitz', ' love chitz', 'suryamunjal  ', '  ', 'suryamunjal love ', 'suryamunjal  ', ' love ', ' love ', ' love ', '  ', '  ', 'suryamunjal love ', 'suryamunjal love ', '  ', ' love chitz', 'suryamunjal love ', '  chitz', ' love ', '  ', '  ', '  chitz', '  ', '  chitz', 'suryamunjal  ', 'suryamunjal  chitz', 'suryamunjal  chitz', ' love ', 'suryamunjal  chitz', '  ', ' love ', 'suryamunjal  chitz', ' love ', '  ', 'suryamunjal  chitz', 'suryamunjal love ', '  ', '  ', '  ', ' love chitz', '  ', ' love chitz', ' love chitz', '  ', '  chitz', ' love ', '  ', 'suryamunjal love ', 'suryamunjal  ', ' love chitz', '  chitz', '  chitz', '  chitz', 'suryamunjal love ', '  ', ' love ', '  chitz', 'suryamunjal  chitz', '  ', ' love ', '  chitz', 'suryamunjal  ', '  ', ' love ', '  ', '  chitz', '  ', 'suryamunjal love ', ' love chitz', '  ', ' love chitz', ' love chitz', 'suryamunjal  chitz', '  ', '  ', '  ', '  ', 'suryamunjal love ', 'suryamunjal love ', ' love ', 'suryamunjal love ', 'suryamunjal love ', '  ', ' love ', '  ', '  chitz', '  chitz', 'suryamunjal love ', '  ', ' love chitz', '  chitz', '  ', '  chitz', 'suryamunjal  ', '  ', 'suryamunjal love ', '  ', '  ', '  ', ' love ', '  ', '  ', '  ', '  chitz', '  ', '  ', 'suryamunjal  chitz', '  ', 'suryamunjal  ', 'suryamunjal  chitz', '  ', '  ', 'suryamunjal  ', '  ', 'suryamunjal  chitz', '  ', '  chitz', '  ', '  chitz', '  ', ' love ', 'suryamunjal  chitz', 'suryamunjal love ', 'suryamunjal  chitz', 'suryamunjal love ', ' love chitz', 'suryamunjal  chitz', ' love chitz', 'suryamunjal  chitz', '  chitz', 'suryamunjal  ', 'suryamunjal  ', ' love chitz', 'suryamunjal  ', 'suryamunjal love ', '  ', '  chitz', ' love ', ' love ', 'suryamunjal  ', '  ', '  ', '  ', 'suryamunjal love ', ' love ', '  chitz', 'suryamunjal  chitz', 'suryamunjal love ', '  ', '  ', 'suryamunjal  ', '  chitz', 'suryamunjal love ', 'suryamunjal  ', 'suryamunjal love ', ' love ', 'suryamunjal  ', ' love ', ' love chitz', 'suryamunjal  ', ' love ', ' love ', '  chitz', ' love ', ' love ', 'suryamunjal love ', '  chitz', '  ', 'suryamunjal love ', '  ', ' love ', ' love chitz', '  chitz', 'suryamunjal love ', ' love chitz', 'suryamunjal  chitz', 'suryamunjal love ', '  chitz', '  ', 'suryamunjal  ', ' love ', ' love ', '  ', 'suryamunjal  ', '  ', '  ', 'suryamunjal  chitz', ' love chitz', 'suryamunjal love ', '  ', 'suryamunjal love ', '  ', 'suryamunjal  ', '  ', ' love ', '  ', ' love chitz', 'suryamunjal love ', '  chitz', '  chitz', 'suryamunjal  ', '  ', 'suryamunjal  chitz', '  ', 'suryamunjal  ', '  ', '  ', '  ', 'suryamunjal  chitz', ' love chitz', '  ', ' love ', 'suryamunjal  chitz', '  chitz', '  ', 'suryamunjal  ', '  ', 'suryamunjal  chitz', 'suryamunjal  ', '  chitz', ' love ', 'suryamunjal  ', ' love ', '  ', 'suryamunjal  ', ' love chitz', 'suryamunjal  chitz', '  ', '  ', '  ', '  ', 'suryamunjal  chitz', 'suryamunjal  ', 'suryamunjal  ', 'suryamunjal  ', '  ', 'suryamunjal love ', '  chitz', '  ', ' love chitz', 'suryamunjal love ', 'suryamunjal  chitz', '  chitz', '  ', ' love chitz', '  chitz', 'suryamunjal love ', '  ', 'suryamunjal love ', '  ', 'suryamunjal  chitz', 'suryamunjal love ', '  ', '  ', 'suryamunjal  chitz', ' love ', 'suryamunjal love ', 'suryamunjal  chitz', '  chitz', ' love ', '  ', ' love chitz', ' love chitz', 'suryamunjal  chitz', ' love chitz', '  ', 'suryamunjal  chitz', 'suryamunjal  ', 'suryamunjal  chitz', 'suryamunjal  ', '  ', '  ', '  ', ' love chitz', '  chitz', '  ', ' love chitz', 'suryamunjal  ', '  ', '  chitz', '  ', '  ', ' love chitz', 'suryamunjal  chitz', '  ', '  ', 'suryamunjal  ', 'suryamunjal  chitz', '  ', 'suryamunjal love ', '  ', ' love ', ' love ', '  ', '  chitz', ' love chitz', 'suryamunjal  chitz', 'suryamunjal  chitz', '  ', '  ', 'suryamunjal  ', '  ', ' love chitz', '  ', 'suryamunjal  chitz', 'suryamunjal  ', ' love chitz', 'suryamunjal love ', 'suryamunjal  ', '  ', ' love chitz', ' love chitz', 'suryamunjal love ', '  ', '  ', '  chitz', '  ', '  ', ' love chitz', ' love ', ' love ', ' love chitz', ' love ', 'suryamunjal  ', 'suryamunjal love ', 'suryamunjal  ', 'suryamunjal  ', '  chitz', 'suryamunjal  chitz', '  ', 'suryamunjal  chitz', '  ', ' love ', 'suryamunjal  chitz', '  ', ' love chitz', ' love chitz', 'suryamunjal  ', '  ', ' love ', '  chitz', '  ', '  ', '  ', '  chitz', ' love ', 'suryamunjal  chitz', 'suryamunjal  ', 'suryamunjal  ', 'suryamunjal  chitz', '  ', '  chitz', 'suryamunjal  chitz', ' love ', '  ', '  ', ' love chitz', '  ', '  chitz', '  chitz', ' love chitz', 'suryamunjal  ', ' love ', '  chitz', '  chitz', 'suryamunjal love ', 'suryamunjal love ', '  chitz', '  chitz', '  ', 'suryamunjal  chitz', '  chitz', ' love ', 'suryamunjal love ', 'suryamunjal  chitz', 'suryamunjal love ', ' love ', '  chitz', 'suryamunjal love ', ' love ', 'suryamunjal  ', '  chitz', '  ', '  ', 'suryamunjal  ', '  ', 'suryamunjal love ', '  chitz', ' love ', '  chitz', '  ', '  chitz', 'suryamunjal  chitz', '  chitz', 'suryamunjal  ', '  ', 'suryamunjal love ', '  ', '  ', '  ', 'suryamunjal love ', ' love chitz', '  ', 'suryamunjal love ', 'suryamunjal  ', ' love chitz', ' love chitz', 'suryamunjal love ', ' love ', '  ', '  ', 'suryamunjal  ', '  ', '  ', ' love chitz', '  ', '  ', 'suryamunjal  chitz', 'suryamunjal  ', 'suryamunjal  chitz', '  ', 'suryamunjal  ', ' love ', '  ', '  ', 'suryamunjal  chitz', ' love chitz', 'suryamunjal love ', 'suryamunjal love ', '  chitz', '  chitz', 'suryamunjal  chitz', ' love chitz', ' love chitz', 'suryamunjal love ', 'suryamunjal love ', '  chitz', 'suryamunjal  ', 'suryamunjal love ', '  chitz', ' love chitz', ' love ', 'suryamunjal  ', '  ', 'suryamunjal  chitz', 'suryamunjal love ', 'suryamunjal love ', '  chitz', 'suryamunjal  ', ' love ', ' love chitz', 'suryamunjal  chitz', 'suryamunjal  chitz', 'suryamunjal  chitz', ' love chitz', '  chitz', 'suryamunjal love ', '  ', 'suryamunjal love ', 'suryamunjal  chitz', 'suryamunjal  chitz', 'suryamunjal  chitz', '  ', ' love ', ' love ', 'suryamunjal love ', 'suryamunjal  ', 'suryamunjal  ', '  ', '  ', 'suryamunjal  chitz', ' love ', '  ', ' love ', ' love ', 'suryamunjal  chitz', ' love chitz', ' love chitz', '  chitz', '  ', '  ', ' love chitz', '  chitz', ' love chitz', ' love ', 'suryamunjal  ', ' love ', ' love chitz', '  ', '  ', ' love chitz', ' love chitz', '  ', 'suryamunjal love ', 'suryamunjal love ', '  ', '  ', ' love ', 'suryamunjal love ', 'suryamunjal  chitz', '  chitz', ' love ', ' love chitz', 'suryamunjal love ', 'suryamunjal  chitz', '  ', 'suryamunjal  chitz', '  ', '  chitz', '  ', ' love ', ' love ', 'suryamunjal love ', ' love chitz', '  ', '  chitz', ' love chitz', '  chitz', '  ', 'suryamunjal love ', ' love ', 'suryamunjal  ', ' love chitz', '  ', 'suryamunjal love ', ' love chitz', '  chitz', '  ', 'suryamunjal  ', '  ', '  ', 'suryamunjal  chitz', '  ', '  ', 'suryamunjal love ', 'suryamunjal  ', 'suryamunjal  ', '  ', ' love chitz', '  ', '  ', '  chitz', '  ', 'suryamunjal  ', 'suryamunjal  chitz', '  chitz', ' love chitz', '  ', 'suryamunjal  chitz', '  chitz', ' love ', 'suryamunjal love ', 'suryamunjal  ', '  chitz', 'suryamunjal  chitz', '  ', 'suryamunjal love ', 'suryamunjal  ', 'suryamunjal  chitz', ' love chitz', '  chitz', 'suryamunjal  chitz', '  chitz', ' love ', ' love ', ' love chitz', 'suryamunjal  chitz', 'suryamunjal  chitz', 'suryamunjal  chitz', '  ', '  ', 'suryamunjal  chitz', '  ', ' love ', ' love ', ' love chitz', '  ', '  chitz', 'suryamunjal  chitz', 'suryamunjal  ', 'suryamunjal  chitz', 'suryamunjal  chitz', '  ', '  ', ' love chitz', ' love ', 'suryamunjal  ', ' love ', '  ', 'suryamunjal  ', ' love ', 'suryamunjal  chitz', 'suryamunjal  chitz', '  ', 'suryamunjal  ', '  ', '  ', 'suryamunjal  ', '  ', 'suryamunjal love ', '  ', '  chitz', ' love chitz', 'suryamunjal  ', '  chitz', '  ', '  chitz', '  ', 'suryamunjal  chitz', '  chitz', ' love ', '  chitz', ' love chitz', 'suryamunjal  ', '  chitz', '  ', 'suryamunjal  ', '  ', '  ', ' love ', '  chitz', ' love ', ' love chitz', '  ', ' love chitz', 'suryamunjal love ', 'suryamunjal  chitz', ' love chitz', '  ', '  chitz', 'suryamunjal  chitz', ' love chitz', ' love ', '  ', '  ', '  chitz', 'suryamunjal  ', '  ', 'suryamunjal  ', '  ', '  chitz', '  ', ' love chitz', '  ', 'suryamunjal  ', '  chitz', ' love ', 'suryamunjal  chitz', ' love ', 'suryamunjal  ', ' love ', '  ', 'suryamunjal  chitz', '  ', '  ', 'suryamunjal  chitz', '  ', 'suryamunjal  ', 'suryamunjal  chitz', ' love chitz', 'suryamunjal  ', '  ', '  ', ' love chitz', '  chitz', '  ', 'suryamunjal  ', '  ', ' love chitz', ' love ', '  chitz', '  ', '  ', 'suryamunjal  chitz', 'suryamunjal love ', '  ', 'suryamunjal love ', 'suryamunjal  ', ' love chitz', ' love ', 'suryamunjal  ', '  ', '  ', ' love chitz', '  ', 'suryamunjal love ', ' love chitz', ' love chitz', '  ', '  ', ' love ', 'suryamunjal  ', 'suryamunjal  ', ' love chitz', '  ', 'suryamunjal  ', 'suryamunjal  ', 'suryamunjal love ', '  ', 'suryamunjal  chitz', '  chitz', 'suryamunjal  chitz', 'suryamunjal  ', ' love ', '  ', ' love chitz', 'suryamunjal  ', 'suryamunjal  ', ' love chitz', '  ', 'suryamunjal  ', 'suryamunjal  chitz', ' love chitz', '  ', 'suryamunjal  ', '  ', ' love chitz', '  ', '  ', 'suryamunjal love ', ' love chitz', 'suryamunjal  ', '  ', '  chitz', ' love chitz', '  ', ' love ', ' love ', 'suryamunjal  chitz', 'suryamunjal  ', 'suryamunjal  chitz', '  ', 'suryamunjal  chitz', ' love chitz', 'suryamunjal  chitz', '  ', ' love ', ' love ', '  ', '  ', '  ', '  ', '  ', 'suryamunjal love ', 'suryamunjal love ', '  chitz', 'suryamunjal  chitz', '  chitz', ' love chitz', 'suryamunjal love ', ' love ', ' love chitz', 'suryamunjal love ', '  chitz', '  ', 'suryamunjal  ', 'suryamunjal  ', 'suryamunjal love ', '  ', ' love ', '  chitz', '  ', 'suryamunjal  ', ' love ', 'suryamunjal love ', '  ', '  chitz', '  ', '  ', 'suryamunjal love ', '  ', '  ', 'suryamunjal love ', 'suryamunjal love ', '  ', 'suryamunjal  chitz', 'suryamunjal  chitz', '  ', '  ', 'suryamunjal love ', ' love chitz', '  ', ' love ', '  ', '  ', '  ', '  ', 'suryamunjal  ', '  ', '  chitz', ' love ', '  chitz', 'suryamunjal love ', '  ', 'suryamunjal  ', '  chitz', '  ', 'suryamunjal  chitz', '  ', 'suryamunjal  chitz', 'suryamunjal love ', '  chitz', '  ', 'suryamunjal  ', '  ', 'suryamunjal love ', '  ', 'suryamunjal love ', '  ', ' love ', ' love chitz', 'suryamunjal  chitz', ' love ', '  ', '  chitz', '  ', '  chitz', '  chitz', ' love chitz', 'suryamunjal  ', ' love ', '  ', ' love chitz', ' love ', ' love ', 'suryamunjal  chitz', 'suryamunjal  ', '  ', '  ', 'suryamunjal love ', '  ', '  chitz', '  chitz', '  chitz', 'suryamunjal  chitz', '  ', '  chitz', '  ', '  ', '  ', ' love chitz', '  ', ' love chitz', 'suryamunjal  chitz', ' love ', '  ', 'suryamunjal  chitz', ' love ', ' love chitz', 'suryamunjal  ', 'suryamunjal  ', '  chitz', ' love ', 'suryamunjal love ', 'suryamunjal  chitz', ' love ', '  chitz', '  chitz', ' love ', '  ', '  ', 'suryamunjal  ', '  chitz', 'suryamunjal  ', '  chitz', 'suryamunjal  chitz', 'suryamunjal  chitz', ' love chitz', '  chitz', '  ', '  ', '  ', ' love ', '  ', 'suryamunjal  ', '  ', '  chitz', '  ', ' love chitz', '  ', '  ', ' love chitz', '  ', '  ', '  ', '  ', ' love ', 'suryamunjal  chitz', '  ', ' love ', '  ', '  ', 'suryamunjal love ', ' love chitz', ' love chitz', 'suryamunjal love ', '  ', '  chitz', ' love ', ' love ', '  ', '  chitz', 'suryamunjal love ', 'suryamunjal  chitz', ' love chitz', 'suryamunjal  chitz', '  ', '  chitz', 'suryamunjal love ', '  chitz', ' love chitz', '  ', 'suryamunjal  ', '  ', 'suryamunjal love ', ' love chitz', '  chitz', '  ', 'suryamunjal  ', 'suryamunjal  chitz', ' love chitz', 'suryamunjal  chitz', '  chitz', ' love ', '  ', '  ', '  ', 'suryamunjal  ', ' love ', ' love ', '  ', 'suryamunjal  chitz', ' love ', '  chitz', 'suryamunjal  ', ' love chitz', ' love chitz', 'suryamunjal love ', '  ', 'suryamunjal love ', 'suryamunjal love ', '  chitz', '  ', '  ', 'suryamunjal  ', '  ', 'suryamunjal love ', '  ', 'suryamunjal  chitz', '  ', '  ', ' love chitz', '  ', ' love chitz', 'suryamunjal  ', '  ', '  chitz', ' love chitz', ' love ', 'suryamunjal love ', 'suryamunjal  ', '  ', '  chitz', '  ', '  ', '  chitz', '  chitz', ' love chitz', ' love chitz', '  ', ' love chitz', 'suryamunjal  chitz', 'suryamunjal  ', ' love ', '  ', '  ', 'suryamunjal  ', 'suryamunjal  ', ' love chitz', '  ', 'suryamunjal  chitz', ' love chitz', '  ', '  chitz', '  ', ' love ', 'suryamunjal  ', 'suryamunjal  chitz', '  ', 'suryamunjal  chitz', ' love chitz', 'suryamunjal  ', '  ', 'suryamunjal  chitz', '  ', ' love ', 'suryamunjal  ', 'suryamunjal  chitz', '  chitz', '  ', ' love chitz', '  ', '  ', '  chitz', 'suryamunjal  ', '  chitz', '  ', ' love ', ' love chitz', '  ', ' love ', 'suryamunjal love ', ' love ', ' love chitz', 'suryamunjal love ', 'suryamunjal love ', 'suryamunjal  ', '  ', '  chitz', '  ', '  chitz', '  ', 'suryamunjal love ', '  ', ' love chitz', 'suryamunjal  ', 'suryamunjal  ', ' love chitz', 'suryamunjal  ', '  ', ' love chitz', '  ', '  ', '  ', 'suryamunjal  chitz', 'suryamunjal  chitz', '  ', '  ', ' love ', 'suryamunjal love ', ' love chitz', '  ', '  ', 'suryamunjal  ', 'suryamunjal love ', '  chitz', '  ', 'suryamunjal  ', '  ', '  ', '  ', '  ', ' love ', '  ', '  chitz', '  ', '  ', ' love ', '  ', 'suryamunjal love ', 'suryamunjal  chitz', '  ', ' love ', '  chitz', 'suryamunjal  ', 'suryamunjal  ', '  ', '  ', 'suryamunjal  ', '  chitz', '  ', '  ', '  ', 'suryamunjal  ', '  ', '  chitz', 'suryamunjal love ', ' love ', 'suryamunjal  ', '  chitz', '  ', 'suryamunjal love ', 'suryamunjal  ', '  chitz', '  ', '  chitz', 'suryamunjal  ', '  ', 'suryamunjal  ', 'suryamunjal love ', ' love chitz', 'suryamunjal love ', 'suryamunjal love ', '  chitz', 'suryamunjal love ', ' love chitz', '  chitz', '  chitz', ' love chitz', '  ', '  ', ' love ', 'suryamunjal  chitz', '  ', '  ', ' love ', 'suryamunjal  ', 'suryamunjal  chitz', '  chitz', 'suryamunjal love ', '  ', ' love ', '  ', '  ', '  ', '  ', 'suryamunjal  ', '  ', 'suryamunjal  ', '  ', 'suryamunjal love ', 'suryamunjal  chitz', '  ', '  ', 'suryamunjal love ', '  ', 'suryamunjal  chitz', ' love ', '  ', 'suryamunjal  ', '  ', 'suryamunjal  ', ' love ', 'suryamunjal love ', '  ', '  ', '  ', '  ', '  ', '  ', 'suryamunjal  ', '  chitz', 'suryamunjal love ', '  ', ' love ', 'suryamunjal love ', '  ', '  chitz', 'suryamunjal  ', '  ', '  chitz', 'suryamunjal  ', 'suryamunjal love ', '  ', 'suryamunjal love ', ' love ', 'suryamunjal  chitz', '  ', ' love ', '  ', '  chitz', '  ', '  ', ' love ', 'suryamunjal  ', '  ', '  ', ' love chitz', '  chitz', 'suryamunjal love ', '  ', 'suryamunjal love ', '  ', 'suryamunjal  chitz', 'suryamunjal  ', ' love ', 'suryamunjal  chitz', 'suryamunjal  chitz', ' love chitz', '  ', '  chitz', 'suryamunjal love ', '  chitz', '  ', ' love ', 'suryamunjal love ', '  chitz', '  ', '  chitz', 'suryamunjal  ', '  chitz', '  ', '  ', '  ', '  ', ' love chitz', '  ', '  chitz', ' love chitz', 'suryamunjal  chitz', '  ', 'suryamunjal love ', '  ', '  ', 'suryamunjal  ', 'suryamunjal  ', 'suryamunjal  ', ' love ', '  ', ' love ', ' love ', 'suryamunjal love ', ' love chitz', 'suryamunjal love ', '  ', '  ', '  chitz', ' love chitz', ' love chitz', ' love chitz', 'suryamunjal love ', '  ', '  ', ' love chitz', '  ', '  ', '  chitz', 'suryamunjal  ', 'suryamunjal  chitz', 'suryamunjal  chitz', ' love ', ' love chitz', 'suryamunjal  ', '  ', 'suryamunjal  ', '  ', 'suryamunjal love ', '  ', ' love ', 'suryamunjal  chitz', '  ', 'suryamunjal  chitz', '  ', ' love ', '  ', ' love ', '  chitz', 'suryamunjal  ', '  ', ' love ', 'suryamunjal love ', ' love chitz', '  ', ' love chitz', 'suryamunjal love ', ' love chitz', 'suryamunjal  chitz', 'suryamunjal  ', 'suryamunjal love ', '  ', 'suryamunjal  ', 'suryamunjal  ', 'suryamunjal  ', 'suryamunjal love ', 'suryamunjal love ', '  ', 'suryamunjal love ', '  chitz', '  ', 'suryamunjal love ', 'suryamunjal love ', ' love chitz', ' love chitz', '  chitz', 'suryamunjal love ', 'suryamunjal  chitz', ' love chitz', '  ', 'suryamunjal  ', '  chitz', 'suryamunjal  ', ' love ', '  chitz', ' love ', 'suryamunjal  chitz', '  ', 'suryamunjal  chitz', ' love ', '  ', 'suryamunjal love ', 'suryamunjal  chitz', '  chitz', 'suryamunjal love ', '  ', '  ', '  chitz', ' love chitz', 'suryamunjal  ', ' love chitz', 'suryamunjal love ', '  chitz', '  ', '  ', ' love ', ' love chitz', 'suryamunjal love ', ' love chitz', '  chitz', '  ', ' love ', 'suryamunjal  ', ' love ', 'suryamunjal love ', '  ', '  ', ' love ', 'suryamunjal love ', 'suryamunjal  chitz', '  ', ' love chitz', 'suryamunjal love ', 'suryamunjal  ', ' love ', '  ', 'suryamunjal  chitz', ' love chitz', '  chitz', '  chitz', 'suryamunjal love ', '  ', '  ', 'suryamunjal love ', 'suryamunjal  ', 'suryamunjal love ', '  ', 'suryamunjal  chitz', '  ', '  ', '  ', ' love ', '  ', 'suryamunjal  chitz', '  ', '  ', ' love chitz', '  ', ' love ', '  chitz', ' love ', '  ', 'suryamunjal  ', '  ', '  ', '  ', '  ', '  ', '  ', ' love ', 'suryamunjal love ', '  chitz', '  ', '  ', '  ', '  ', '  ', '  chitz', 'suryamunjal  chitz', '  ', 'suryamunjal  ', ' love chitz', '  ', '  ', '  ', ' love chitz', 'suryamunjal  ', 'suryamunjal love ', 'suryamunjal love ', ' love chitz', 'suryamunjal  ', 'suryamunjal  chitz', '  ', 'suryamunjal  ', 'suryamunjal love ', 'suryamunjal  ', '  ', ' love ', ' love ', 'suryamunjal love ', 'suryamunjal  ', 'suryamunjal love ', 'suryamunjal  ', '  chitz', '  ', '  ', '  ', '  ', ' love chitz', 'suryamunjal  chitz', '  chitz', 'suryamunjal love ', 'suryamunjal love ', '  chitz', '  ', ' love chitz', '  ', ' love ', '  chitz', '  ', '  ', '  ', ' love ', ' love ', 'suryamunjal love ', '  chitz', '  ', '  ', '  ', ' love ', 'suryamunjal love ', '  ', '  ', ' love chitz', '  ', '  ', '  ', 'suryamunjal love ', '  chitz', '  ', 'suryamunjal  chitz', '  ', '  ', ' love ', '  ', 'suryamunjal  chitz', '  ', ' love chitz', '  ', '  chitz', ' love ', 'suryamunjal  chitz', '  ', 'suryamunjal love ', ' love ', '  ', '  chitz', '  ', '  ', '  chitz', ' love ', 'suryamunjal love ', 'suryamunjal  ', 'suryamunjal love ', '  chitz', '  chitz', '  ', 'suryamunjal love ', ' love ', 'suryamunjal  ', 'suryamunjal  ', 'suryamunjal  ', '  chitz', '  ', 'suryamunjal  ', 'suryamunjal  chitz', 'suryamunjal  ', '  ', 'suryamunjal love ', '  ', '  chitz', 'suryamunjal love ', ' love ', 'suryamunjal  chitz', ' love chitz', '  ', 'suryamunjal  chitz', ' love ', 'suryamunjal  ', 'suryamunjal  ', 'suryamunjal  ', '  chitz', 'suryamunjal  chitz', '  ', 'suryamunjal  chitz', '  chitz', ' love ', 'suryamunjal  chitz', '  chitz', '  ', 'suryamunjal  ', 'suryamunjal  ', 'suryamunjal  chitz', ' love chitz', ' love chitz', '  chitz', ' love chitz', 'suryamunjal  ', 'suryamunjal  ', 'suryamunjal  chitz', '  ', '  ', '  chitz', ' love chitz', 'suryamunjal  ', 'suryamunjal  chitz', '  ', '  ', 'suryamunjal  ', 'suryamunjal  ', '  ', 'suryamunjal love ', 'suryamunjal  ', ' love ', 'suryamunjal  chitz', ' love ', '  ', '  chitz', 'suryamunjal  ', '  ', '  chitz', ' love ', '  ', 'suryamunjal  ', 'suryamunjal  chitz', 'suryamunjal  chitz', ' love chitz', 'suryamunjal love ', 'suryamunjal  ', ' love ', 'suryamunjal  ', 'suryamunjal  chitz', '  chitz', 'suryamunjal love ', '  ', ' love chitz', 'suryamunjal  chitz', ' love ', '  ', 'suryamunjal  ', '  ', ' love chitz', '  chitz', 'suryamunjal  chitz', '  ', '  ', 'suryamunjal love ', ' love ', '  chitz', ' love ', '  chitz', ' love ', 'suryamunjal  chitz', '  ', '  ', 'suryamunjal  chitz', '  ', ' love chitz', 'suryamunjal  ', ' love ', '  ', '  ', '  ', 'suryamunjal  chitz', '  ', ' love chitz', 'suryamunjal love ', 'suryamunjal  chitz', '  ', '  ', 'suryamunjal  chitz', '  ', 'suryamunjal love ', '  ', '  ', '  chitz', ' love ', 'suryamunjal love ', 'suryamunjal  chitz', '  ', '  ', 'suryamunjal love ', ' love ', 'suryamunjal  chitz', '  ', '  chitz', 'suryamunjal love ', '  ', '  ', 'suryamunjal  chitz', 'suryamunjal love ', '  ', '  ', 'suryamunjal  ', 'suryamunjal love ', 'suryamunjal  ', '  ', '  ', '  ', 'suryamunjal love ', 'suryamunjal  chitz', 'suryamunjal  chitz', '  chitz', '  ', ' love ', 'suryamunjal  ', '  ', '  ', '  chitz', '  ', 'suryamunjal  ', 'suryamunjal love ', 'suryamunjal  ', '  ', 'suryamunjal  ', '  ', ' love ', '  chitz', '  ', ' love ', '  ', 'suryamunjal love ', '  ', 'suryamunjal love ', '  ', ' love ', 'suryamunjal  ', '  ', '  ', ' love ', 'suryamunjal  ', '  ', '  ', '  ', '  ', ' love ', ' love ', '  ', 'suryamunjal  ', '  ', '  chitz', '  ', 'suryamunjal  ', '  ', 'suryamunjal  ', 'suryamunjal love ', 'suryamunjal  ', 'suryamunjal love ', ' love ', '  ', ' love chitz', '  ', ' love ', '  ', ' love ', ' love chitz', 'suryamunjal  chitz', 'suryamunjal  chitz', 'suryamunjal  chitz', ' love ', 'suryamunjal  ', ' love chitz', 'suryamunjal  chitz', ' love chitz', 'suryamunjal  ', '  ', ' love chitz', ' love chitz', 'suryamunjal  chitz', '  chitz', 'suryamunjal  ', '  ', ' love chitz', ' love ', 'suryamunjal  chitz', 'suryamunjal love ', ' love ', ' love chitz', '  ', '  ', '  chitz', '  chitz', 'suryamunjal  chitz', '  ', 'suryamunjal  chitz', '  ', 'suryamunjal  chitz', ' love ', '  ', 'suryamunjal  ', ' love ', '  ', ' love chitz', 'suryamunjal love ', ' love chitz', '  chitz', '  ', '  ', '  chitz', '  ', 'suryamunjal love ', ' love ', '  chitz', ' love chitz', '  ', '  chitz', '  ', ' love chitz', 'suryamunjal  ', ' love ', '  ', '  ', 'suryamunjal  chitz', '  ', '  ', ' love ', 'suryamunjal  ', '  chitz', '  ', '  ', '  ', 'suryamunjal  ', '  ', 'suryamunjal  chitz', '  ', '  ', 'suryamunjal  chitz', ' love ', '  ', '  ', '  chitz', '  ', '  ', '  ', 'suryamunjal  ', ' love ', ' love chitz', '  chitz', '  ', '  ', '  chitz', ' love ', '  ', '  ', ' love ', '  chitz', 'suryamunjal love ', '  chitz', '  ', 'suryamunjal love ', ' love chitz', 'suryamunjal  chitz', 'suryamunjal  chitz', ' love ', '  ', 'suryamunjal love ', '  ', '  ', ' love ', ' love ', 'suryamunjal love ', 'suryamunjal  ', 'suryamunjal  chitz', '  ', ' love chitz', '  ', 'suryamunjal  ', '  ', '  chitz', '  ', '  ', '  chitz', '  ', '  ', '  chitz', ' love ', 'suryamunjal love ', '  ', 'suryamunjal love ', 'suryamunjal love ', '  ', 'suryamunjal  ', 'suryamunjal  chitz', '  ', ' love chitz', ' love ', 'suryamunjal  ', '  ', ' love ', '  ', '  ', 'suryamunjal  chitz', 'suryamunjal  ', '  chitz', ' love chitz', 'suryamunjal  chitz', 'suryamunjal  chitz', ' love ', '  ', '  ', ' love chitz', 'suryamunjal love ', 'suryamunjal love ', '  ', '  ', '  chitz', '  chitz', '  ', '  ', ' love chitz', 'suryamunjal  chitz', '  ', 'suryamunjal  ', ' love chitz', '  ', '  chitz', '  ', '  ', 'suryamunjal love ', '  ', '  ', 'suryamunjal  chitz', 'suryamunjal love ', 'suryamunjal love ', 'suryamunjal love ', '  ', 'suryamunjal  ', '  ', 'suryamunjal  ', '  ', ' love chitz', '  ', '  chitz', ' love chitz', 'suryamunjal love ', ' love ', '  chitz', ' love ', ' love ', '  ', '  ', '  ', '  ', 'suryamunjal love ', '  ', ' love ', ' love chitz', ' love chitz', ' love chitz', '  chitz', ' love chitz', '  chitz', '  ', ' love ', ' love ', 'suryamunjal love ', '  ', '  chitz', ' love ', '  ', 'suryamunjal  chitz', 'suryamunjal  chitz', ' love chitz', 'suryamunjal  ', '  ', 'suryamunjal  ', '  ', '  ', ' love chitz', 'suryamunjal love ', '  chitz', '  ', 'suryamunjal  ', 'suryamunjal  ', '  chitz', ' love ', '  chitz', '  ', '  ', 'suryamunjal  ', '  ', 'suryamunjal love ', 'suryamunjal  ', 'suryamunjal  chitz', 'suryamunjal love ', ' love ', '  chitz', '  chitz', 'suryamunjal love ', 'suryamunjal love ', ' love chitz', '  ', '  ', ' love ', ' love chitz', 'suryamunjal  chitz', ' love ', ' love ', '  ', ' love chitz', 'suryamunjal  ', 'suryamunjal love ', '  ', ' love chitz', '  ', '  chitz', '  chitz', ' love ', ' love ', '  ', 'suryamunjal  chitz', '  ', ' love chitz', '  ', '  chitz', 'suryamunjal  ', '  ', ' love chitz', '  ', '  chitz', '  ', 'suryamunjal  ', 'suryamunjal  chitz', '  ', 'suryamunjal  chitz', 'suryamunjal love ', ' love chitz', 'suryamunjal  chitz', '  ', 'suryamunjal  ', 'suryamunjal  chitz', '  ', 'suryamunjal  chitz', '  chitz', 'suryamunjal  ', '  ', 'suryamunjal  ', 'suryamunjal  chitz', 'suryamunjal love ', '  ', ' love ', ' love chitz', ' love chitz', 'suryamunjal  chitz', 'suryamunjal  chitz', 'suryamunjal love ', 'suryamunjal love ', '  ', 'suryamunjal  chitz', 'suryamunjal love ', 'suryamunjal  ', '  ', '  ', 'suryamunjal love ', '  ', ' love chitz', 'suryamunjal  ', ' love ', '  chitz', '  chitz', 'suryamunjal love ', 'suryamunjal  chitz', '  ', 'suryamunjal  ', ' love ', 'suryamunjal  chitz', 'suryamunjal  ', '  ', 'suryamunjal love ', '  ', '  ', '  chitz', '  ', '  ', '  ', ' love chitz', '  ', 'suryamunjal  ', 'suryamunjal  chitz', ' love ', ' love chitz', 'suryamunjal  ', ' love ', 'suryamunjal  ', '  ', '  ', 'suryamunjal love ', 'suryamunjal  chitz', ' love chitz', ' love ', ' love chitz', 'suryamunjal  chitz', 'suryamunjal  chitz', ' love ', '  ', ' love chitz', 'suryamunjal love ', '  chitz', ' love chitz', ' love chitz', 'suryamunjal  ', 'suryamunjal love ', 'suryamunjal love ', '  chitz', ' love chitz', 'suryamunjal  ', ' love chitz', '  ', ' love chitz', 'suryamunjal love ', 'suryamunjal  ', '  ', 'suryamunjal  chitz', '  ', '  ', ' love chitz', 'suryamunjal love ', '  ', '  ', '  ', '  chitz', ' love chitz', '  ', ' love chitz', '  ', '  ', ' love ', 'suryamunjal  ', '  ', 'suryamunjal love ', 'suryamunjal  ', '  ', ' love ', ' love chitz', 'suryamunjal love ', '  ', 'suryamunjal  ', 'suryamunjal love ', 'suryamunjal  ', 'suryamunjal love ', ' love chitz', '  chitz', '  ', '  ', 'suryamunjal  ', 'suryamunjal love ', '  chitz', '  ', '  ', ' love chitz', '  ', 'suryamunjal love ', 'suryamunjal love ', 'suryamunjal love ', ' love chitz', ' love ', '  ', '  chitz', ' love chitz', ' love ', ' love ', ' love ', '  ', ' love chitz', 'suryamunjal  chitz', '  ', '  ', 'suryamunjal  chitz', '  ', ' love ', '  ', '  chitz', '  chitz', '  ', '  chitz', ' love ', '  chitz', 'suryamunjal love ', 'suryamunjal  chitz', 'suryamunjal  chitz', ' love ', 'suryamunjal  chitz', '  chitz', '  ', '  ', '  ', '  ', 'suryamunjal  chitz', 'suryamunjal  chitz', '  ', ' love ', '  chitz', 'suryamunjal  ', 'suryamunjal love ', ' love ', 'suryamunjal love ', '  ', 'suryamunjal  ', '  ', '  chitz', 'suryamunjal  ', '  chitz', ' love chitz', 'suryamunjal love ', ' love ', '  ', ' love chitz', ' love ', ' love ', '  ', '  ', '  ', 'suryamunjal  ', '  ', 'suryamunjal  chitz', 'suryamunjal  ', 'suryamunjal  chitz', '  ', 'suryamunjal  ', 'suryamunjal  chitz', ' love chitz', 'suryamunjal love ', 'suryamunjal love ', '  ', '  ', ' love ', 'suryamunjal love ', ' love ', '  ', '  ', 'suryamunjal  ', '  ', '  ', '  ', '  ', 'suryamunjal  ', '  chitz', 'suryamunjal  chitz', '  ', '  ', ' love chitz', ' love ', '  ', 'suryamunjal love ', '  chitz', 'suryamunjal love ', ' love chitz', '  ', 'suryamunjal  ', '  chitz', '  chitz', '  ', '  ', 'suryamunjal  chitz', '  ', '  ', '  ', 'suryamunjal  ', '  ', 'suryamunjal  ', '  ', ' love ', '  ', 'suryamunjal  ', 'suryamunjal love ', ' love chitz', ' love chitz', '  ', '  ', ' love ', '  ', '  ', '  chitz', '  chitz', 'suryamunjal  ', ' love chitz', '  ', 'suryamunjal  chitz', ' love ', 'suryamunjal love ', '  ', '  chitz', '  ', '  chitz', '  ', '  ', '  chitz', '  ', ' love chitz', 'suryamunjal  ', 'suryamunjal  chitz', 'suryamunjal love ', '  ', ' love ', '  ', ' love ', ' love chitz', 'suryamunjal  chitz', '  ', '  chitz', 'suryamunjal  ', 'suryamunjal love ', 'suryamunjal love ', ' love ', '  ', '  ', '  chitz', 'suryamunjal love ', 'suryamunjal  ', '  ', '  ', 'suryamunjal  ', 'suryamunjal love ', ' love chitz', ' love chitz', ' love ', ' love ', '  ', '  ', ' love ', '  ', '  chitz', ' love ', 'suryamunjal  ', 'suryamunjal  ', 'suryamunjal  ', ' love ', ' love chitz', ' love chitz', 'suryamunjal  chitz', ' love ', 'suryamunjal love ', '  ', 'suryamunjal  chitz', ' love ', '  chitz', '  ', ' love chitz', '  ', ' love chitz', 'suryamunjal love ', 'suryamunjal  chitz', ' love ', '  ', ' love chitz', '  ', 'suryamunjal  chitz', 'suryamunjal love ', '  chitz', '  ', 'suryamunjal  ', '  ', 'suryamunjal love ', 'suryamunjal  ', 'suryamunjal love ', '  ', ' love chitz', '  ', ' love ', ' love ', 'suryamunjal  chitz', 'suryamunjal  ', '  ', 'suryamunjal  chitz', '  ', 'suryamunjal  ', '  ', '  ', '  ', 'suryamunjal  ', '  chitz', 'suryamunjal  chitz', ' love ', 'suryamunjal  chitz', ' love chitz', ' love ', 'suryamunjal  chitz', '  chitz', 'suryamunjal  ', 'suryamunjal  ', '  ', ' love ', '  ', ' love chitz', ' love ', '  ', '  ', 'suryamunjal  chitz', 'suryamunjal  ', 'suryamunjal  ', '  ', 'suryamunjal  chitz', '  ', 'suryamunjal  ', '  ', 'suryamunjal love ', ' love ', '  ', '  ', 'suryamunjal love ', '  ', ' love ', '  chitz', ' love ', '  ', 'suryamunjal  ', '  ', ' love ', '  ', 'suryamunjal  ', '  ', 'suryamunjal love ', ' love chitz', '  ', '  chitz', 'suryamunjal love ', '  ', '  ', ' love chitz', 'suryamunjal love ', ' love ', '  ', 'suryamunjal  chitz', ' love chitz', '  chitz', '  ', ' love ', 'suryamunjal  chitz', 'suryamunjal  chitz', ' love chitz', ' love ', '  ', 'suryamunjal  ', 'suryamunjal  ', '  ', ' love chitz', 'suryamunjal  chitz', 'suryamunjal  chitz', ' love chitz', '  ', 'suryamunjal  chitz', ' love ', 'suryamunjal love ', 'suryamunjal  chitz', 'suryamunjal love ', ' love chitz', '  ', 'suryamunjal love ', ' love ', '  ', 'suryamunjal love ', ' love ', 'suryamunjal love ', '  ', ' love ', ' love ', ' love chitz', 'suryamunjal love ', 'suryamunjal  chitz', '  ', '  ', ' love ', 'suryamunjal  chitz', 'suryamunjal  ', '  ', '  ', '  ', '  chitz', ' love ', 'suryamunjal  chitz', '  ', 'suryamunjal  chitz', 'suryamunjal  chitz', 'suryamunjal  chitz', '  ', '  ', '  ', '  ', '  ', 'suryamunjal  ', ' love ', ' love ', ' love ', 'suryamunjal  ', 'suryamunjal love ', ' love chitz', ' love chitz', ' love ', '  ', ' love chitz', '  ', 'suryamunjal love ', '  ', '  ', 'suryamunjal  ', '  ', 'suryamunjal  chitz', 'suryamunjal love ', 'suryamunjal  ', '  chitz', '  ', 'suryamunjal  ', '  chitz', '  ', '  ', 'suryamunjal  chitz', '  chitz', '  ', 'suryamunjal  chitz', 'suryamunjal  chitz', '  ', 'suryamunjal love ', ' love ', ' love ', '  ', '  ', ' love ', '  ', ' love ', '  chitz', 'suryamunjal  chitz', ' love chitz', 'suryamunjal  ', 'suryamunjal  chitz', '  ', 'suryamunjal  ', 'suryamunjal  ', ' love ', '  ', 'suryamunjal  chitz', '  ', '  chitz', 'suryamunjal  chitz', ' love ', '  ', 'suryamunjal  chitz', '  ', '  ', '  ', ' love ', 'suryamunjal love ', '  ', 'suryamunjal  chitz', '  ', 'suryamunjal  ', ' love chitz', ' love chitz', '  ', '  ', '  ', '  ', 'suryamunjal  ', 'suryamunjal  chitz', '  chitz', ' love chitz', '  ', 'suryamunjal  ', ' love ', '  chitz', 'suryamunjal love ', '  chitz', '  ', 'suryamunjal love ', '  ', '  ', '  ', '  chitz', ' love chitz', 'suryamunjal  chitz', '  ', '  ', 'suryamunjal love ', '  ', ' love ', ' love chitz', 'suryamunjal  ', ' love chitz', '  ', ' love ', '  ', 'suryamunjal love ', '  ', '  ', '  ', '  ', 'suryamunjal  chitz', ' love chitz', ' love ', '  ', 'suryamunjal love ', '  chitz', 'suryamunjal  chitz', '  chitz', '  ', '  ', 'suryamunjal  chitz', 'suryamunjal  chitz', 'suryamunjal  ', 'suryamunjal love ', ' love ', 'suryamunjal  ', '  ', 'suryamunjal love ', '  ', ' love ', ' love ', '  ', '  ', '  chitz', '  ', ' love chitz', 'suryamunjal  chitz', 'suryamunjal  ', '  ', 'suryamunjal  ', 'suryamunjal  ', 'suryamunjal  chitz', '  chitz', '  ', ' love ', 'suryamunjal  ', ' love chitz', '  chitz', '  ', ' love chitz', '  chitz', ' love chitz', '  ', 'suryamunjal love ', ' love chitz', ' love ', '  ', 'suryamunjal  ', '  ', 'suryamunjal  chitz', '  ', 'suryamunjal  ', ' love chitz', ' love ', ' love ', ' love chitz', '  chitz', 'suryamunjal  chitz', 'suryamunjal love ', '  ', 'suryamunjal love ', '  ', 'suryamunjal love ', '  ', 'suryamunjal love ', 'suryamunjal love ', 'suryamunjal love ', '  ', ' love chitz', '  ', 'suryamunjal  chitz', 'suryamunjal  ', '  chitz', '  ', 'suryamunjal  chitz', '  ', ' love chitz', ' love ', ' love chitz', 'suryamunjal  ', ' love chitz', ' love ', '  ', ' love chitz', '  ', '  ', 'suryamunjal love ', 'suryamunjal love ', 'suryamunjal  ', 'suryamunjal love ', '  ', 'suryamunjal  chitz', '  ', '  ', 'suryamunjal  ', ' love chitz', '  ', 'suryamunjal  chitz', '  ', 'suryamunjal love ', '  ', 'suryamunjal  ', ' love ', ' love chitz', '  ', '  ', ' love chitz', ' love chitz', ' love chitz', '  chitz', 'suryamunjal love ', ' love ', 'suryamunjal  ', '  chitz', '  ', '  ', '  ', '  ', ' love ', '  chitz', 'suryamunjal  ', 'suryamunjal  ', 'suryamunjal  ', '  ', 'suryamunjal  ', ' love chitz', ' love chitz', '  ', ' love ', 'suryamunjal  chitz', 'suryamunjal  chitz', '  ', '  ', 'suryamunjal love ', '  ', 'suryamunjal  ', 'suryamunjal  chitz', 'suryamunjal  chitz', 'suryamunjal  ', ' love chitz', '  ', '  ', 'suryamunjal  ', '  ', '  ', '  ', '  ', 'suryamunjal  chitz', '  ', '  ', 'suryamunjal  ', ' love chitz', ' love chitz', '  ', ' love chitz', ' love ', 'suryamunjal love ', '  ', ' love ', ' love chitz', '  chitz', '  ', '  chitz', '  ', ' love chitz', '  ', 'suryamunjal  ', 'suryamunjal  chitz', '  chitz', 'suryamunjal  ', '  ', '  ', ' love ', '  chitz', '  chitz', '  chitz', '  ', '  ', '  chitz', 'suryamunjal love ', ' love chitz', ' love ', 'suryamunjal  ', 'suryamunjal  ', '  chitz', '  chitz', '  chitz', 'suryamunjal love ', 'suryamunjal  chitz', '  ', '  ', 'suryamunjal  chitz', '  ', ' love chitz', ' love chitz', 'suryamunjal  chitz', 'suryamunjal  chitz', 'suryamunjal love ', '  ', '  ', '  ', '  ', '  ', 'suryamunjal  ', 'suryamunjal love ', 'suryamunjal  chitz', 'suryamunjal  ', ' love chitz', 'suryamunjal  ', '  ', ' love ', '  ', 'suryamunjal  chitz', '  chitz', 'suryamunjal  chitz', ' love chitz', '  ', '  ', '  ', '  ', '  ', '  ', '  ', 'suryamunjal love ', 'suryamunjal love ', ' love ', 'suryamunjal love ', '  chitz', ' love chitz', '  ', ' love ', 'suryamunjal  chitz', 'suryamunjal  ', '  ', ' love ', '  ', ' love ', ' love ', ' love ', ' love chitz', '  chitz', '  ', ' love ', 'suryamunjal  chitz', '  chitz', 'suryamunjal  chitz', ' love ', 'suryamunjal  chitz', 'suryamunjal  chitz', 'suryamunjal  chitz', '  ', '  ', ' love chitz', 'suryamunjal  ', '  ', ' love chitz', ' love ', '  ', 'suryamunjal love ', 'suryamunjal  ', '  chitz', '  chitz', ' love ', '  ', 'suryamunjal  ', '  chitz', ' love ', ' love chitz', '  ', '  ', 'suryamunjal  chitz', ' love chitz', '  ', 'suryamunjal love ', '  chitz', 'suryamunjal  chitz', '  ', '  ', 'suryamunjal  chitz', ' love ', 'suryamunjal  ', '  ', ' love chitz', '  ', ' love ', 'suryamunjal  chitz', '  ', 'suryamunjal  chitz', '  ', 'suryamunjal love ', 'suryamunjal  chitz', ' love ', '  chitz', '  ', 'suryamunjal  chitz', '  ', '  ', ' love ', ' love chitz', '  ', 'suryamunjal  chitz', 'suryamunjal  chitz', ' love chitz', '  ', ' love chitz', 'suryamunjal love ', 'suryamunjal  ', 'suryamunjal  chitz', ' love ', 'suryamunjal  chitz', '  ', 'suryamunjal  chitz', '  ', ' love chitz', '  chitz', 'suryamunjal  ', ' love chitz', 'suryamunjal  chitz', ' love ', '  chitz', 'suryamunjal  chitz', '  ', '  ', 'suryamunjal  chitz', '  ', '  chitz', ' love chitz', '  ', 'suryamunjal  chitz', '  ', ' love chitz', 'suryamunjal  chitz', ' love ', 'suryamunjal  ', '  ', 'suryamunjal  chitz', '  ', 'suryamunjal  chitz', '  ', '  chitz', '  chitz', ' love ', 'suryamunjal  ', '  ', '  chitz', '  chitz', '  chitz', ' love ', '  ', '  ', 'suryamunjal  chitz', '  ', 'suryamunjal love ', 'suryamunjal  ', 'suryamunjal  chitz', 'suryamunjal  ', ' love chitz', '  ', 'suryamunjal  chitz', '  ', '  ', '  chitz', '  ', 'suryamunjal love ', '  ', '  ', '  chitz', '  ', 'suryamunjal  chitz', '  ', 'suryamunjal  chitz', '  ', 'suryamunjal love ', ' love chitz', '  ', '  ', ' love ', '  chitz', '  ', 'suryamunjal  chitz', 'suryamunjal  chitz', 'suryamunjal  ', ' love chitz', 'suryamunjal love ', ' love ', ' love ', 'suryamunjal  ', '  ', 'suryamunjal love ', ' love chitz', '  ', '  ', '  ', 'suryamunjal  chitz', 'suryamunjal love ', '  ', 'suryamunjal love ', 'suryamunjal  chitz', '  ', 'suryamunjal  chitz', '  ', '  ', '  ', 'suryamunjal  chitz', '  chitz', ' love ', 'suryamunjal  chitz', 'suryamunjal  chitz', 'suryamunjal love ', ' love chitz', 'suryamunjal love ', 'suryamunjal  chitz', '  chitz', ' love ', '  ', ' love ', ' love chitz', 'suryamunjal  chitz', 'suryamunjal  chitz', 'suryamunjal  ', '  chitz', ' love chitz', 'suryamunjal  ', ' love chitz', ' love chitz', '  ', 'suryamunjal  ', '  ', 'suryamunjal  ', 'suryamunjal love ', 'suryamunjal love ', '  ', '  ', '  ', '  ', ' love ', '  ', 'suryamunjal  ', ' love chitz', '  ', ' love chitz', '  ', 'suryamunjal love ', ' love ', 'suryamunjal love ', '  ', 'suryamunjal  chitz', 'suryamunjal  ', '  chitz', 'suryamunjal  ', '  ', 'suryamunjal love ', 'suryamunjal  ', '  chitz', '  ', 'suryamunjal  chitz', ' love ', '  ', ' love ', '  ', 'suryamunjal  chitz', ' love ', 'suryamunjal  ', ' love chitz', 'suryamunjal  ', '  ', 'suryamunjal  ', '  ', 'suryamunjal  chitz', 'suryamunjal  chitz', '  ', 'suryamunjal  ', 'suryamunjal  ', '  ', '  ', ' love chitz', 'suryamunjal  ', ' love ', ' love chitz', '  ', '  ', '  ', '  ', ' love ', '  ', '  ', ' love chitz', ' love ', '  chitz', 'suryamunjal  chitz', ' love chitz', '  ', 'suryamunjal  ', ' love chitz', '  ', '  ', 'suryamunjal  chitz', '  ', '  ', 'suryamunjal love ', '  ', '  ', 'suryamunjal  ', 'suryamunjal  chitz', '  ', '  ', 'suryamunjal  ', '  chitz', 'suryamunjal love ', '  ', '  ', 'suryamunjal  ', ' love ', 'suryamunjal love ', '  chitz', '  chitz', ' love chitz', '  ', '  chitz', ' love ', '  ', 'suryamunjal  ', 'suryamunjal  chitz', ' love chitz', 'suryamunjal love ', 'suryamunjal  ', '  ', ' love ', '  ', '  ', 'suryamunjal  chitz', ' love ', '  chitz', ' love ', '  ', 'suryamunjal  chitz', 'suryamunjal  chitz', ' love chitz', '  ', ' love chitz', 'suryamunjal love ', 'suryamunjal  chitz', '  ', '  ', '  chitz', '  chitz', '  ', 'suryamunjal  chitz', '  ', 'suryamunjal love ', ' love ', '  ', '  ', ' love ', ' love chitz', 'suryamunjal  chitz', '  chitz', 'suryamunjal  ', '  chitz', ' love chitz', '  ', '  ', '  ', '  ', ' love chitz', 'suryamunjal  ', '  ', 'suryamunjal  ', 'suryamunjal love ', 'suryamunjal  ', ' love chitz', '  ', '  ', ' love ', '  ', 'suryamunjal  ', '  ', ' love chitz', '  ', '  ', 'suryamunjal  ', '  ', 'suryamunjal  chitz', '  ', '  ', 'suryamunjal  ', '  ', '  chitz', ' love chitz', 'suryamunjal love ', 'suryamunjal  ', '  ', ' love chitz', 'suryamunjal  chitz', 'suryamunjal  chitz', ' love ', 'suryamunjal love ', '  ', '  ', 'suryamunjal  ', '  chitz', '  ', 'suryamunjal  chitz', ' love ', '  ', '  ', '  ', '  chitz', '  ', 'suryamunjal love ', 'suryamunjal  ', ' love ', '  ', 'suryamunjal  ', '  ', 'suryamunjal  ', '  ', ' love ', '  ', 'suryamunjal  chitz', '  ', '  ', ' love ', ' love chitz', 'suryamunjal  ', 'suryamunjal love ', 'suryamunjal  ', 'suryamunjal  ', 'suryamunjal  chitz', '  ', 'suryamunjal  ', 'suryamunjal love ', ' love ', ' love chitz', '  ', ' love chitz', 'suryamunjal  chitz', '  ', 'suryamunjal love ', 'suryamunjal  ', ' love ', 'suryamunjal love ', '  chitz', '  ', '  chitz', ' love chitz', ' love chitz', 'suryamunjal  ', 'suryamunjal  ', '  ', ' love ', '  chitz', '  ', '  ', 'suryamunjal  ', ' love ', 'suryamunjal  chitz', ' love ', 'suryamunjal love ', ' love chitz', '  ', 'suryamunjal  ', '  ', '  ', 'suryamunjal  chitz', 'suryamunjal  chitz', 'suryamunjal  chitz', ' love chitz', ' love ', ' love ', '  ', 'suryamunjal  ', '  ', '  ', '  chitz', '  chitz', ' love ', 'suryamunjal love ', ' love chitz', '  chitz', 'suryamunjal  ', '  ', 'suryamunjal love ', 'suryamunjal  ', ' love chitz', 'suryamunjal  chitz', '  ', 'suryamunjal love ', '  ', '  ', '  ', 'suryamunjal  chitz', ' love ', 'suryamunjal  chitz', ' love ', '  chitz', 'suryamunjal  chitz', ' love chitz', '  ', '  ', 'suryamunjal  ', 'suryamunjal  ', 'suryamunjal  ', '  chitz', 'suryamunjal love ', ' love chitz', ' love ', ' love ', 'suryamunjal  ', 'suryamunjal  ', '  ', ' love ', 'suryamunjal  chitz', '  chitz', 'suryamunjal  chitz', '  ', '  ', '  ', '  ', '  ', '  chitz', ' love chitz', '  chitz', '  ', '  ', 'suryamunjal love ', '  ', ' love ', ' love ', '  ', 'suryamunjal  ', '  ', 'suryamunjal  ', ' love ', '  ', '  ', 'suryamunjal  chitz', ' love chitz', 'suryamunjal  chitz', '  ', 'suryamunjal love ', 'suryamunjal  ', '  chitz', '  ', 'suryamunjal love ', '  ', '  ', '  ', 'suryamunjal  ', '  chitz', '  ', 'suryamunjal  ', '  chitz', '  ', 'suryamunjal  chitz', ' love ', ' love chitz', 'suryamunjal  ', 'suryamunjal love ', 'suryamunjal love ', 'suryamunjal  chitz', '  ', 'suryamunjal  chitz', '  ', 'suryamunjal  ', 'suryamunjal  chitz', ' love ', '  chitz', '  ', '  ', 'suryamunjal love ', 'suryamunjal  chitz', '  ', 'suryamunjal  ', '  ', 'suryamunjal  chitz', '  ', '  ', '  chitz', '  chitz', 'suryamunjal  ', ' love ', '  chitz', '  ', ' love ', '  chitz', '  ', '  chitz', 'suryamunjal  ', 'suryamunjal  chitz', 'suryamunjal  chitz', '  chitz', 'suryamunjal love ', '  ', '  ', 'suryamunjal love ', 'suryamunjal love ', '  ', 'suryamunjal love ', ' love chitz', '  ', 'suryamunjal  ', 'suryamunjal love ', '  ', ' love ', ' love chitz', 'suryamunjal love ', '  ', 'suryamunjal  chitz', 'suryamunjal love ', '  ', '  ', '  ', '  ', ' love chitz', '  ', ' love chitz', '  ', 'suryamunjal  chitz', '  chitz', '  ', 'suryamunjal love ', '  ', '  chitz', '  chitz', ' love chitz', '  ', '  ', ' love chitz', '  ', 'suryamunjal  ', '  ', '  ', '  ', '  ', ' love chitz', '  chitz', '  chitz', ' love ', ' love ', '  ', 'suryamunjal love ', 'suryamunjal  ', ' love chitz', 'suryamunjal love ', 'suryamunjal love ', 'suryamunjal  chitz', ' love chitz', 'suryamunjal love ', 'suryamunjal  ', '  ', '  chitz', 'suryamunjal  ', ' love ', '  ', ' love chitz', ' love ', 'suryamunjal love ', '  chitz', ' love chitz', ' love chitz', '  ', 'suryamunjal  chitz', '  ', 'suryamunjal  chitz', 'suryamunjal  chitz', '  ', ' love chitz', '  chitz', 'suryamunjal  ', '  ', 'suryamunjal love ', 'suryamunjal  chitz', 'suryamunjal  chitz', '  ', 'suryamunjal love ', '  ', '  chitz', 'suryamunjal  chitz', 'suryamunjal  ', '  ', '  ', 'suryamunjal love ', 'suryamunjal  ', ' love chitz', '  ', ' love chitz', ' love ', '  ', 'suryamunjal  chitz', ' love ', 'suryamunjal  chitz', ' love ', ' love ', ' love chitz', '  ', '  chitz', 'suryamunjal love ', '  ', '  chitz', 'suryamunjal  chitz', 'suryamunjal love ', 'suryamunjal love ', '  ', 'suryamunjal love ', ' love ', '  ', ' love ', ' love ', ' love chitz', 'suryamunjal  chitz', ' love chitz', 'suryamunjal  ', ' love ', '  ', 'suryamunjal love ', '  ', '  ', '  ', '  ', 'suryamunjal  ', 'suryamunjal  chitz', 'suryamunjal love ', ' love chitz', '  ', ' love ', 'suryamunjal love ', '  ', 'suryamunjal  chitz', 'suryamunjal  chitz', '  ', 'suryamunjal love ', 'suryamunjal love ', 'suryamunjal  ', 'suryamunjal  chitz', '  ', ' love ', '  chitz', '  ', '  ', ' love ', '  chitz', 'suryamunjal love ', ' love chitz', '  ', 'suryamunjal love ', '  chitz', ' love ', ' love ', 'suryamunjal  ', ' love chitz', '  ', '  ', '  ', ' love chitz', ' love ', '  ', '  ', 'suryamunjal  chitz', '  ', 'suryamunjal love ', '  chitz', ' love chitz', '  ', '  ', 'suryamunjal  chitz', 'suryamunjal love ', 'suryamunjal  chitz', '  ', ' love chitz', '  ', '  ', ' love chitz', '  ', ' love chitz', ' love ', '  chitz', '  ', 'suryamunjal  chitz', '  ', '  chitz', 'suryamunjal  ', '  ', '  chitz', ' love ', '  ', ' love ', 'suryamunjal  chitz', '  ', 'suryamunjal  chitz', 'suryamunjal  chitz', '  ', '  ', ' love chitz', 'suryamunjal  chitz', 'suryamunjal love ', '  ', '  ', '  chitz', '  ', '  ', 'suryamunjal  ', '  chitz', 'suryamunjal love ', '  ', '  ', '  chitz', ' love ', 'suryamunjal  chitz', '  ', ' love ', ' love ', 'suryamunjal  chitz', 'suryamunjal  ', 'suryamunjal  ', 'suryamunjal love ', ' love chitz', '  ', 'suryamunjal  ', ' love ', '  ', ' love chitz', '  ', '  ', '  ', '  ', 'suryamunjal  ', 'suryamunjal  ', 'suryamunjal  ', '  ', 'suryamunjal love ', ' love chitz', 'suryamunjal  ', '  ', '  ', 'suryamunjal  chitz', ' love chitz', 'suryamunjal  ', '  ', '  chitz', 'suryamunjal  chitz', 'suryamunjal love ', '  ', '  chitz', ' love chitz', '  chitz', '  ', '  ', ' love chitz', '  chitz', '  ', '  chitz', 'suryamunjal  chitz', ' love ', '  ', ' love ', 'suryamunjal love ', '  chitz', 'suryamunjal love ', '  chitz', 'suryamunjal love ', 'suryamunjal  chitz', '  chitz', '  ', 'suryamunjal love ', '  ', '  ', '  ', 'suryamunjal  ', ' love ', ' love ', '  chitz', 'suryamunjal  chitz', '  ', '  ', '  ', '  chitz', '  ', '  ', '  ', '  ', 'suryamunjal  chitz', ' love ', ' love chitz', 'suryamunjal  chitz', 'suryamunjal love ', 'suryamunjal love ', '  chitz', 'suryamunjal love ', '  ']\n"
          ]
        },
        {
          "output_type": "stream",
          "name": "stderr",
          "text": [
            "INFO:werkzeug:127.0.0.1 - - [09/Oct/2022 14:11:29] \"\u001b[37mPOST /predict HTTP/1.1\u001b[0m\" 200 -\n",
            "INFO:werkzeug:127.0.0.1 - - [09/Oct/2022 14:11:30] \"\u001b[37mGET /static/IMG/images.png HTTP/1.1\u001b[0m\" 200 -\n"
          ]
        }
      ],
      "source": [
        "# import Flask from flask module\n",
        "from flask import Flask\n",
        "import os\n",
        "\n",
        "PEOPLE_FOLDER = os.path.join('static', 'people_photo')\n",
        "\n",
        "\n",
        "# import run_with_ngrok from flask_ngrok to run the app using ngrok\n",
        "from flask_ngrok import run_with_ngrok\n",
        "from flask import Flask, render_template , request \n",
        "\n",
        "  \n",
        "app = Flask(__name__) #app name\n",
        "run_with_ngrok(app)\n",
        "\n",
        "IMG_FOLDER = os.path.join('static', 'IMG')\n",
        "\n",
        "app.config['UPLOAD_FOLDER'] = IMG_FOLDER\n",
        "\n",
        "''' \n",
        "@app.route(\"/\")\n",
        "def hello():\n",
        "    return \"Hello Friends! from Pykit.org. Thank you! for reading this article.\"\n",
        "'''\n",
        "@app.route(\"/\")\n",
        "def index():\n",
        "    return render_template(\"index.html\")\n",
        "\n",
        "\n",
        "@app.route('/predict', methods=['POST'])\n",
        "def predict():\n",
        "  \n",
        "  to_predict = request.form.to_dict()\n",
        "  #to_predict_text = request.form.to_dict()\n",
        "  news_title = preproc(to_predict['news_title'])\n",
        "  news_text = preproc(to_predict['news_text'])\n",
        "  \n",
        "  clf = joblib.load('model.pkl')\n",
        "  tokenizer = joblib.load('tokenizer.pkl')\n",
        "  combined=news_title + news_text\n",
        "  processed=[]\n",
        "  processed.append(preproc(combined))\n",
        " \n",
        "  list_tokenized_ex = tokenizer.texts_to_sequences(processed)\n",
        "  Ex = pad_sequences(list_tokenized_ex, maxlen=600)\n",
        "  pred = clf.predict(Ex)\n",
        "  if pred[0]>=0.5:\n",
        "      prediction = \"real news\"\n",
        "  else:\n",
        "      prediction = \"Fake News\"\n",
        "  \n",
        "  \n",
        "  from lime.lime_text import LimeTextExplainer\n",
        "  class_names=['0','1']\n",
        "  explainer= LimeTextExplainer(class_names=class_names)\n",
        "  import matplotlib.pyplot as plt\n",
        "  exp =explainer.explain_instance(combined,predict_proba)\n",
        "  #exp.show_in_notebook(text=True)\n",
        "  #exp.available_labels()\n",
        "  exp.as_pyplot_figure(label=1,)\n",
        "  plt.savefig(\"/content/static/IMG/images.png\")\n",
        "  #plt.show()\n",
        "\n",
        "\n",
        "\n",
        "  \n",
        "  \n",
        "  Flask_Logo = os.path.join(app.config['UPLOAD_FOLDER'], 'images.png')\n",
        "\n",
        "  return render_template('/predict.html', prediction_text = prediction ,user_image=Flask_Logo)\n",
        "\n",
        "    \n",
        "\n",
        "if __name__ == \"__main__\":\n",
        "    app.run()\n",
        "  \n",
        "\n",
        " \n",
        "\n",
        "  #full_filename = os.path.join(app.config['UPLOAD_FOLDER'], 'shovon.png')\n",
        "  #return render_template(\"index.html\", prediction_text=' this is a {}'.format(prediction),user_image = full_filename)\n",
        "\n",
        "  #return render_template('index.html', prediction_text=' this is a {}'.format(prediction),user_image =\"/content/templates/squares234.png\")\n",
        "  "
      ]
    },
    {
      "cell_type": "code",
      "source": [
        "!pip install lime"
      ],
      "metadata": {
        "id": "4z_0wFsHpsxz",
        "colab": {
          "base_uri": "https://localhost:8080/"
        },
        "outputId": "3806989b-5cb4-4cc8-8f9e-19485e91ef7f"
      },
      "execution_count": 11,
      "outputs": [
        {
          "output_type": "stream",
          "name": "stdout",
          "text": [
            "Looking in indexes: https://pypi.org/simple, https://us-python.pkg.dev/colab-wheels/public/simple/\n",
            "Requirement already satisfied: lime in /usr/local/lib/python3.7/dist-packages (0.2.0.1)\n",
            "Requirement already satisfied: scipy in /usr/local/lib/python3.7/dist-packages (from lime) (1.7.3)\n",
            "Requirement already satisfied: numpy in /usr/local/lib/python3.7/dist-packages (from lime) (1.21.6)\n",
            "Requirement already satisfied: scikit-learn>=0.18 in /usr/local/lib/python3.7/dist-packages (from lime) (1.0.2)\n",
            "Requirement already satisfied: tqdm in /usr/local/lib/python3.7/dist-packages (from lime) (4.64.1)\n",
            "Requirement already satisfied: scikit-image>=0.12 in /usr/local/lib/python3.7/dist-packages (from lime) (0.18.3)\n",
            "Requirement already satisfied: matplotlib in /usr/local/lib/python3.7/dist-packages (from lime) (3.2.2)\n",
            "Requirement already satisfied: tifffile>=2019.7.26 in /usr/local/lib/python3.7/dist-packages (from scikit-image>=0.12->lime) (2021.11.2)\n",
            "Requirement already satisfied: networkx>=2.0 in /usr/local/lib/python3.7/dist-packages (from scikit-image>=0.12->lime) (2.6.3)\n",
            "Requirement already satisfied: imageio>=2.3.0 in /usr/local/lib/python3.7/dist-packages (from scikit-image>=0.12->lime) (2.9.0)\n",
            "Requirement already satisfied: PyWavelets>=1.1.1 in /usr/local/lib/python3.7/dist-packages (from scikit-image>=0.12->lime) (1.3.0)\n",
            "Requirement already satisfied: pillow!=7.1.0,!=7.1.1,>=4.3.0 in /usr/local/lib/python3.7/dist-packages (from scikit-image>=0.12->lime) (7.1.2)\n",
            "Requirement already satisfied: kiwisolver>=1.0.1 in /usr/local/lib/python3.7/dist-packages (from matplotlib->lime) (1.4.4)\n",
            "Requirement already satisfied: python-dateutil>=2.1 in /usr/local/lib/python3.7/dist-packages (from matplotlib->lime) (2.8.2)\n",
            "Requirement already satisfied: pyparsing!=2.0.4,!=2.1.2,!=2.1.6,>=2.0.1 in /usr/local/lib/python3.7/dist-packages (from matplotlib->lime) (3.0.9)\n",
            "Requirement already satisfied: cycler>=0.10 in /usr/local/lib/python3.7/dist-packages (from matplotlib->lime) (0.11.0)\n",
            "Requirement already satisfied: typing-extensions in /usr/local/lib/python3.7/dist-packages (from kiwisolver>=1.0.1->matplotlib->lime) (4.1.1)\n",
            "Requirement already satisfied: six>=1.5 in /usr/local/lib/python3.7/dist-packages (from python-dateutil>=2.1->matplotlib->lime) (1.15.0)\n",
            "Requirement already satisfied: joblib>=0.11 in /usr/local/lib/python3.7/dist-packages (from scikit-learn>=0.18->lime) (1.2.0)\n",
            "Requirement already satisfied: threadpoolctl>=2.0.0 in /usr/local/lib/python3.7/dist-packages (from scikit-learn>=0.18->lime) (3.1.0)\n"
          ]
        }
      ]
    },
    {
      "cell_type": "code",
      "source": [],
      "metadata": {
        "id": "EEz_QNfYfn4m"
      },
      "execution_count": null,
      "outputs": []
    }
  ],
  "metadata": {
    "colab": {
      "collapsed_sections": [],
      "provenance": []
    },
    "kernelspec": {
      "display_name": "Python 3",
      "name": "python3"
    },
    "language_info": {
      "name": "python"
    }
  },
  "nbformat": 4,
  "nbformat_minor": 0
}